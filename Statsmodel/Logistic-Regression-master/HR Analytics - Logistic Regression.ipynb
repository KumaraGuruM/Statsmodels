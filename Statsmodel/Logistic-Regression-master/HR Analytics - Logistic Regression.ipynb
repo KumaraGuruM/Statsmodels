{
 "cells": [
  {
   "cell_type": "markdown",
   "metadata": {},
   "source": [
    "# HR Analytics"
   ]
  },
  {
   "cell_type": "markdown",
   "metadata": {},
   "source": [
    "**Data preparation** --------------------->> (data)\n",
    "> Duplicate values <br>\n",
    "> Missing value <br>\n",
    "> Outlier <br>\n",
    "> Binning <br>\n",
    "> Encoding  -------------------------->> (data_f)\n",
    "\n",
    "**Feature Reduction** \n",
    "> Weight of Evidence <br>\n",
    "> VIF (using Somer's D) -------------->> (data_f)\n",
    "\n",
    "**Resampling**\n",
    "> Perform Under/Over Sampling--------->> (data_bal) <br>\n",
    "> Divide the data_bal into ----------->> (train_x, train_y, test_x, test_y)\n",
    "\n",
    "**Model Implementing**\n",
    "> Get the Probs of the Y using Logit()\n",
    "\n",
    "**Finding the Optimum Cut-off**\n",
    "> ROC Analysis <br>\n",
    "> Decile Analysis\n",
    "\n",
    "**Apply the Model on the test_x** <br>\n",
    "\n",
    "**Model Evaluation**\n",
    "> Accuracy <br>\n",
    "> Somer's D / Gini <br>\n",
    "> AUC <br>\n",
    "> Confusion Matrix"
   ]
  },
  {
   "cell_type": "code",
   "execution_count": 1,
   "metadata": {},
   "outputs": [],
   "source": [
    "import pandas as pd\n",
    "import numpy as np"
   ]
  },
  {
   "cell_type": "code",
   "execution_count": 2,
   "metadata": {},
   "outputs": [],
   "source": [
    "data = pd.read_csv('HR_comma_sep.csv')"
   ]
  },
  {
   "cell_type": "code",
   "execution_count": 3,
   "metadata": {
    "scrolled": true
   },
   "outputs": [
    {
     "data": {
      "text/html": [
       "<div>\n",
       "<style scoped>\n",
       "    .dataframe tbody tr th:only-of-type {\n",
       "        vertical-align: middle;\n",
       "    }\n",
       "\n",
       "    .dataframe tbody tr th {\n",
       "        vertical-align: top;\n",
       "    }\n",
       "\n",
       "    .dataframe thead th {\n",
       "        text-align: right;\n",
       "    }\n",
       "</style>\n",
       "<table border=\"1\" class=\"dataframe\">\n",
       "  <thead>\n",
       "    <tr style=\"text-align: right;\">\n",
       "      <th></th>\n",
       "      <th>satisfaction_level</th>\n",
       "      <th>last_evaluation</th>\n",
       "      <th>number_project</th>\n",
       "      <th>average_montly_hours</th>\n",
       "      <th>time_spend_company</th>\n",
       "      <th>Work_accident</th>\n",
       "      <th>left</th>\n",
       "      <th>promotion_last_5years</th>\n",
       "      <th>department</th>\n",
       "      <th>salary</th>\n",
       "    </tr>\n",
       "  </thead>\n",
       "  <tbody>\n",
       "    <tr>\n",
       "      <td>0</td>\n",
       "      <td>0.38</td>\n",
       "      <td>0.53</td>\n",
       "      <td>2</td>\n",
       "      <td>157</td>\n",
       "      <td>3</td>\n",
       "      <td>0</td>\n",
       "      <td>1</td>\n",
       "      <td>0</td>\n",
       "      <td>sales</td>\n",
       "      <td>low</td>\n",
       "    </tr>\n",
       "    <tr>\n",
       "      <td>1</td>\n",
       "      <td>0.80</td>\n",
       "      <td>0.86</td>\n",
       "      <td>5</td>\n",
       "      <td>262</td>\n",
       "      <td>6</td>\n",
       "      <td>0</td>\n",
       "      <td>1</td>\n",
       "      <td>0</td>\n",
       "      <td>sales</td>\n",
       "      <td>medium</td>\n",
       "    </tr>\n",
       "    <tr>\n",
       "      <td>2</td>\n",
       "      <td>0.11</td>\n",
       "      <td>0.88</td>\n",
       "      <td>7</td>\n",
       "      <td>272</td>\n",
       "      <td>4</td>\n",
       "      <td>0</td>\n",
       "      <td>1</td>\n",
       "      <td>0</td>\n",
       "      <td>sales</td>\n",
       "      <td>medium</td>\n",
       "    </tr>\n",
       "    <tr>\n",
       "      <td>3</td>\n",
       "      <td>0.72</td>\n",
       "      <td>0.87</td>\n",
       "      <td>5</td>\n",
       "      <td>223</td>\n",
       "      <td>5</td>\n",
       "      <td>0</td>\n",
       "      <td>1</td>\n",
       "      <td>0</td>\n",
       "      <td>sales</td>\n",
       "      <td>low</td>\n",
       "    </tr>\n",
       "    <tr>\n",
       "      <td>4</td>\n",
       "      <td>0.37</td>\n",
       "      <td>0.52</td>\n",
       "      <td>2</td>\n",
       "      <td>159</td>\n",
       "      <td>3</td>\n",
       "      <td>0</td>\n",
       "      <td>1</td>\n",
       "      <td>0</td>\n",
       "      <td>sales</td>\n",
       "      <td>low</td>\n",
       "    </tr>\n",
       "  </tbody>\n",
       "</table>\n",
       "</div>"
      ],
      "text/plain": [
       "   satisfaction_level  last_evaluation  number_project  average_montly_hours  \\\n",
       "0                0.38             0.53               2                   157   \n",
       "1                0.80             0.86               5                   262   \n",
       "2                0.11             0.88               7                   272   \n",
       "3                0.72             0.87               5                   223   \n",
       "4                0.37             0.52               2                   159   \n",
       "\n",
       "   time_spend_company  Work_accident  left  promotion_last_5years department  \\\n",
       "0                   3              0     1                      0      sales   \n",
       "1                   6              0     1                      0      sales   \n",
       "2                   4              0     1                      0      sales   \n",
       "3                   5              0     1                      0      sales   \n",
       "4                   3              0     1                      0      sales   \n",
       "\n",
       "   salary  \n",
       "0     low  \n",
       "1  medium  \n",
       "2  medium  \n",
       "3     low  \n",
       "4     low  "
      ]
     },
     "execution_count": 3,
     "metadata": {},
     "output_type": "execute_result"
    }
   ],
   "source": [
    "data.head()"
   ]
  },
  {
   "cell_type": "code",
   "execution_count": 4,
   "metadata": {},
   "outputs": [
    {
     "data": {
      "text/plain": [
       "False    11991\n",
       "True      3008\n",
       "dtype: int64"
      ]
     },
     "execution_count": 4,
     "metadata": {},
     "output_type": "execute_result"
    }
   ],
   "source": [
    "data.duplicated().value_counts()"
   ]
  },
  {
   "cell_type": "code",
   "execution_count": 5,
   "metadata": {},
   "outputs": [],
   "source": [
    "data = data[-data.duplicated()]"
   ]
  },
  {
   "cell_type": "code",
   "execution_count": 6,
   "metadata": {},
   "outputs": [
    {
     "data": {
      "text/plain": [
       "satisfaction_level       float64\n",
       "last_evaluation          float64\n",
       "number_project             int64\n",
       "average_montly_hours       int64\n",
       "time_spend_company         int64\n",
       "Work_accident              int64\n",
       "left                       int64\n",
       "promotion_last_5years      int64\n",
       "department                object\n",
       "salary                    object\n",
       "dtype: object"
      ]
     },
     "execution_count": 6,
     "metadata": {},
     "output_type": "execute_result"
    }
   ],
   "source": [
    "data.dtypes"
   ]
  },
  {
   "cell_type": "markdown",
   "metadata": {},
   "source": [
    "#### Under Sampling"
   ]
  },
  {
   "cell_type": "code",
   "execution_count": 7,
   "metadata": {},
   "outputs": [],
   "source": [
    "data0 = data[data.left==0][:2000]"
   ]
  },
  {
   "cell_type": "code",
   "execution_count": 8,
   "metadata": {},
   "outputs": [],
   "source": [
    "data1 = data[data.left==1]"
   ]
  },
  {
   "cell_type": "code",
   "execution_count": 9,
   "metadata": {},
   "outputs": [],
   "source": [
    "data_bal = pd.concat([data0,data1],axis=0)"
   ]
  },
  {
   "cell_type": "code",
   "execution_count": 10,
   "metadata": {},
   "outputs": [
    {
     "data": {
      "text/plain": [
       "sales          1082\n",
       "technical       780\n",
       "support         624\n",
       "IT              314\n",
       "RandD           220\n",
       "marketing       219\n",
       "hr              218\n",
       "accounting      216\n",
       "product_mng     214\n",
       "management      104\n",
       "Name: department, dtype: int64"
      ]
     },
     "execution_count": 10,
     "metadata": {},
     "output_type": "execute_result"
    }
   ],
   "source": [
    "data_bal.department.value_counts()"
   ]
  },
  {
   "cell_type": "code",
   "execution_count": 11,
   "metadata": {},
   "outputs": [],
   "source": [
    "data_cat = pd.get_dummies(data_bal[['department','salary']], drop_first=True)"
   ]
  },
  {
   "cell_type": "code",
   "execution_count": 12,
   "metadata": {},
   "outputs": [
    {
     "data": {
      "text/html": [
       "<div>\n",
       "<style scoped>\n",
       "    .dataframe tbody tr th:only-of-type {\n",
       "        vertical-align: middle;\n",
       "    }\n",
       "\n",
       "    .dataframe tbody tr th {\n",
       "        vertical-align: top;\n",
       "    }\n",
       "\n",
       "    .dataframe thead th {\n",
       "        text-align: right;\n",
       "    }\n",
       "</style>\n",
       "<table border=\"1\" class=\"dataframe\">\n",
       "  <thead>\n",
       "    <tr style=\"text-align: right;\">\n",
       "      <th></th>\n",
       "      <th>department_RandD</th>\n",
       "      <th>department_accounting</th>\n",
       "      <th>department_hr</th>\n",
       "      <th>department_management</th>\n",
       "      <th>department_marketing</th>\n",
       "      <th>department_product_mng</th>\n",
       "      <th>department_sales</th>\n",
       "      <th>department_support</th>\n",
       "      <th>department_technical</th>\n",
       "      <th>salary_low</th>\n",
       "      <th>salary_medium</th>\n",
       "    </tr>\n",
       "  </thead>\n",
       "  <tbody>\n",
       "    <tr>\n",
       "      <td>2000</td>\n",
       "      <td>0</td>\n",
       "      <td>0</td>\n",
       "      <td>0</td>\n",
       "      <td>0</td>\n",
       "      <td>0</td>\n",
       "      <td>0</td>\n",
       "      <td>1</td>\n",
       "      <td>0</td>\n",
       "      <td>0</td>\n",
       "      <td>1</td>\n",
       "      <td>0</td>\n",
       "    </tr>\n",
       "    <tr>\n",
       "      <td>2001</td>\n",
       "      <td>0</td>\n",
       "      <td>0</td>\n",
       "      <td>0</td>\n",
       "      <td>0</td>\n",
       "      <td>0</td>\n",
       "      <td>0</td>\n",
       "      <td>1</td>\n",
       "      <td>0</td>\n",
       "      <td>0</td>\n",
       "      <td>1</td>\n",
       "      <td>0</td>\n",
       "    </tr>\n",
       "    <tr>\n",
       "      <td>2002</td>\n",
       "      <td>0</td>\n",
       "      <td>0</td>\n",
       "      <td>0</td>\n",
       "      <td>0</td>\n",
       "      <td>0</td>\n",
       "      <td>0</td>\n",
       "      <td>1</td>\n",
       "      <td>0</td>\n",
       "      <td>0</td>\n",
       "      <td>1</td>\n",
       "      <td>0</td>\n",
       "    </tr>\n",
       "    <tr>\n",
       "      <td>2003</td>\n",
       "      <td>0</td>\n",
       "      <td>0</td>\n",
       "      <td>0</td>\n",
       "      <td>0</td>\n",
       "      <td>0</td>\n",
       "      <td>0</td>\n",
       "      <td>1</td>\n",
       "      <td>0</td>\n",
       "      <td>0</td>\n",
       "      <td>1</td>\n",
       "      <td>0</td>\n",
       "    </tr>\n",
       "    <tr>\n",
       "      <td>2004</td>\n",
       "      <td>0</td>\n",
       "      <td>0</td>\n",
       "      <td>0</td>\n",
       "      <td>0</td>\n",
       "      <td>0</td>\n",
       "      <td>0</td>\n",
       "      <td>1</td>\n",
       "      <td>0</td>\n",
       "      <td>0</td>\n",
       "      <td>1</td>\n",
       "      <td>0</td>\n",
       "    </tr>\n",
       "    <tr>\n",
       "      <td>...</td>\n",
       "      <td>...</td>\n",
       "      <td>...</td>\n",
       "      <td>...</td>\n",
       "      <td>...</td>\n",
       "      <td>...</td>\n",
       "      <td>...</td>\n",
       "      <td>...</td>\n",
       "      <td>...</td>\n",
       "      <td>...</td>\n",
       "      <td>...</td>\n",
       "      <td>...</td>\n",
       "    </tr>\n",
       "    <tr>\n",
       "      <td>1995</td>\n",
       "      <td>0</td>\n",
       "      <td>0</td>\n",
       "      <td>0</td>\n",
       "      <td>0</td>\n",
       "      <td>0</td>\n",
       "      <td>0</td>\n",
       "      <td>1</td>\n",
       "      <td>0</td>\n",
       "      <td>0</td>\n",
       "      <td>1</td>\n",
       "      <td>0</td>\n",
       "    </tr>\n",
       "    <tr>\n",
       "      <td>1996</td>\n",
       "      <td>0</td>\n",
       "      <td>0</td>\n",
       "      <td>0</td>\n",
       "      <td>0</td>\n",
       "      <td>0</td>\n",
       "      <td>0</td>\n",
       "      <td>1</td>\n",
       "      <td>0</td>\n",
       "      <td>0</td>\n",
       "      <td>1</td>\n",
       "      <td>0</td>\n",
       "    </tr>\n",
       "    <tr>\n",
       "      <td>1997</td>\n",
       "      <td>0</td>\n",
       "      <td>0</td>\n",
       "      <td>0</td>\n",
       "      <td>0</td>\n",
       "      <td>0</td>\n",
       "      <td>0</td>\n",
       "      <td>1</td>\n",
       "      <td>0</td>\n",
       "      <td>0</td>\n",
       "      <td>1</td>\n",
       "      <td>0</td>\n",
       "    </tr>\n",
       "    <tr>\n",
       "      <td>1998</td>\n",
       "      <td>0</td>\n",
       "      <td>0</td>\n",
       "      <td>0</td>\n",
       "      <td>0</td>\n",
       "      <td>0</td>\n",
       "      <td>0</td>\n",
       "      <td>1</td>\n",
       "      <td>0</td>\n",
       "      <td>0</td>\n",
       "      <td>1</td>\n",
       "      <td>0</td>\n",
       "    </tr>\n",
       "    <tr>\n",
       "      <td>1999</td>\n",
       "      <td>0</td>\n",
       "      <td>0</td>\n",
       "      <td>0</td>\n",
       "      <td>0</td>\n",
       "      <td>0</td>\n",
       "      <td>0</td>\n",
       "      <td>1</td>\n",
       "      <td>0</td>\n",
       "      <td>0</td>\n",
       "      <td>1</td>\n",
       "      <td>0</td>\n",
       "    </tr>\n",
       "  </tbody>\n",
       "</table>\n",
       "<p>3991 rows × 11 columns</p>\n",
       "</div>"
      ],
      "text/plain": [
       "      department_RandD  department_accounting  department_hr  \\\n",
       "2000                 0                      0              0   \n",
       "2001                 0                      0              0   \n",
       "2002                 0                      0              0   \n",
       "2003                 0                      0              0   \n",
       "2004                 0                      0              0   \n",
       "...                ...                    ...            ...   \n",
       "1995                 0                      0              0   \n",
       "1996                 0                      0              0   \n",
       "1997                 0                      0              0   \n",
       "1998                 0                      0              0   \n",
       "1999                 0                      0              0   \n",
       "\n",
       "      department_management  department_marketing  department_product_mng  \\\n",
       "2000                      0                     0                       0   \n",
       "2001                      0                     0                       0   \n",
       "2002                      0                     0                       0   \n",
       "2003                      0                     0                       0   \n",
       "2004                      0                     0                       0   \n",
       "...                     ...                   ...                     ...   \n",
       "1995                      0                     0                       0   \n",
       "1996                      0                     0                       0   \n",
       "1997                      0                     0                       0   \n",
       "1998                      0                     0                       0   \n",
       "1999                      0                     0                       0   \n",
       "\n",
       "      department_sales  department_support  department_technical  salary_low  \\\n",
       "2000                 1                   0                     0           1   \n",
       "2001                 1                   0                     0           1   \n",
       "2002                 1                   0                     0           1   \n",
       "2003                 1                   0                     0           1   \n",
       "2004                 1                   0                     0           1   \n",
       "...                ...                 ...                   ...         ...   \n",
       "1995                 1                   0                     0           1   \n",
       "1996                 1                   0                     0           1   \n",
       "1997                 1                   0                     0           1   \n",
       "1998                 1                   0                     0           1   \n",
       "1999                 1                   0                     0           1   \n",
       "\n",
       "      salary_medium  \n",
       "2000              0  \n",
       "2001              0  \n",
       "2002              0  \n",
       "2003              0  \n",
       "2004              0  \n",
       "...             ...  \n",
       "1995              0  \n",
       "1996              0  \n",
       "1997              0  \n",
       "1998              0  \n",
       "1999              0  \n",
       "\n",
       "[3991 rows x 11 columns]"
      ]
     },
     "execution_count": 12,
     "metadata": {},
     "output_type": "execute_result"
    }
   ],
   "source": [
    "data_cat"
   ]
  },
  {
   "cell_type": "code",
   "execution_count": 13,
   "metadata": {},
   "outputs": [
    {
     "data": {
      "text/plain": [
       "Index(['satisfaction_level', 'last_evaluation', 'number_project',\n",
       "       'average_montly_hours', 'time_spend_company', 'Work_accident', 'left',\n",
       "       'promotion_last_5years', 'department', 'salary'],\n",
       "      dtype='object')"
      ]
     },
     "execution_count": 13,
     "metadata": {},
     "output_type": "execute_result"
    }
   ],
   "source": [
    "data_bal.columns"
   ]
  },
  {
   "cell_type": "code",
   "execution_count": 14,
   "metadata": {},
   "outputs": [],
   "source": [
    "data_num = data_bal[['satisfaction_level', 'last_evaluation', 'number_project',\n",
    "       'average_montly_hours', 'time_spend_company', 'Work_accident',\n",
    "       'promotion_last_5years']]"
   ]
  },
  {
   "cell_type": "code",
   "execution_count": 15,
   "metadata": {},
   "outputs": [],
   "source": [
    "data_x = pd.concat([data_num,data_cat],axis=1)"
   ]
  },
  {
   "cell_type": "code",
   "execution_count": 16,
   "metadata": {},
   "outputs": [],
   "source": [
    "data_y = data_bal['left']"
   ]
  },
  {
   "cell_type": "code",
   "execution_count": 17,
   "metadata": {},
   "outputs": [],
   "source": [
    "import pandas_profiling"
   ]
  },
  {
   "cell_type": "code",
   "execution_count": 18,
   "metadata": {},
   "outputs": [],
   "source": [
    "#pandas_profiling.ProfileReport(data_bal)"
   ]
  },
  {
   "cell_type": "code",
   "execution_count": 19,
   "metadata": {},
   "outputs": [
    {
     "data": {
      "text/plain": [
       "0    2000\n",
       "1    1991\n",
       "Name: left, dtype: int64"
      ]
     },
     "execution_count": 19,
     "metadata": {},
     "output_type": "execute_result"
    }
   ],
   "source": [
    "data_y.value_counts()"
   ]
  },
  {
   "cell_type": "code",
   "execution_count": 20,
   "metadata": {},
   "outputs": [
    {
     "data": {
      "text/html": [
       "<div>\n",
       "<style scoped>\n",
       "    .dataframe tbody tr th:only-of-type {\n",
       "        vertical-align: middle;\n",
       "    }\n",
       "\n",
       "    .dataframe tbody tr th {\n",
       "        vertical-align: top;\n",
       "    }\n",
       "\n",
       "    .dataframe thead th {\n",
       "        text-align: right;\n",
       "    }\n",
       "</style>\n",
       "<table border=\"1\" class=\"dataframe\">\n",
       "  <thead>\n",
       "    <tr style=\"text-align: right;\">\n",
       "      <th></th>\n",
       "      <th>satisfaction_level</th>\n",
       "      <th>last_evaluation</th>\n",
       "      <th>number_project</th>\n",
       "      <th>average_montly_hours</th>\n",
       "      <th>time_spend_company</th>\n",
       "      <th>Work_accident</th>\n",
       "      <th>promotion_last_5years</th>\n",
       "      <th>department_RandD</th>\n",
       "      <th>department_accounting</th>\n",
       "      <th>department_hr</th>\n",
       "      <th>department_management</th>\n",
       "      <th>department_marketing</th>\n",
       "      <th>department_product_mng</th>\n",
       "      <th>department_sales</th>\n",
       "      <th>department_support</th>\n",
       "      <th>department_technical</th>\n",
       "      <th>salary_low</th>\n",
       "      <th>salary_medium</th>\n",
       "    </tr>\n",
       "  </thead>\n",
       "  <tbody>\n",
       "    <tr>\n",
       "      <td>satisfaction_level</td>\n",
       "      <td>1.000000</td>\n",
       "      <td>0.120835</td>\n",
       "      <td>-0.174650</td>\n",
       "      <td>-0.077454</td>\n",
       "      <td>-0.060625</td>\n",
       "      <td>0.078396</td>\n",
       "      <td>-0.010373</td>\n",
       "      <td>0.008746</td>\n",
       "      <td>-0.014789</td>\n",
       "      <td>-0.005975</td>\n",
       "      <td>-0.014808</td>\n",
       "      <td>0.003861</td>\n",
       "      <td>0.018284</td>\n",
       "      <td>-0.000566</td>\n",
       "      <td>0.016298</td>\n",
       "      <td>-0.013775</td>\n",
       "      <td>-0.027210</td>\n",
       "      <td>0.016227</td>\n",
       "    </tr>\n",
       "    <tr>\n",
       "      <td>last_evaluation</td>\n",
       "      <td>0.120835</td>\n",
       "      <td>1.000000</td>\n",
       "      <td>0.556127</td>\n",
       "      <td>0.537549</td>\n",
       "      <td>0.377069</td>\n",
       "      <td>-0.004005</td>\n",
       "      <td>-0.026506</td>\n",
       "      <td>-0.003102</td>\n",
       "      <td>0.002662</td>\n",
       "      <td>-0.025428</td>\n",
       "      <td>0.016586</td>\n",
       "      <td>-0.012772</td>\n",
       "      <td>-0.019525</td>\n",
       "      <td>-0.031489</td>\n",
       "      <td>0.020714</td>\n",
       "      <td>0.041210</td>\n",
       "      <td>0.006719</td>\n",
       "      <td>-0.006512</td>\n",
       "    </tr>\n",
       "    <tr>\n",
       "      <td>number_project</td>\n",
       "      <td>-0.174650</td>\n",
       "      <td>0.556127</td>\n",
       "      <td>1.000000</td>\n",
       "      <td>0.641086</td>\n",
       "      <td>0.384513</td>\n",
       "      <td>-0.018201</td>\n",
       "      <td>-0.025880</td>\n",
       "      <td>0.013825</td>\n",
       "      <td>0.001343</td>\n",
       "      <td>-0.032389</td>\n",
       "      <td>0.008893</td>\n",
       "      <td>-0.018646</td>\n",
       "      <td>0.001872</td>\n",
       "      <td>-0.030413</td>\n",
       "      <td>0.018211</td>\n",
       "      <td>0.031986</td>\n",
       "      <td>-0.012611</td>\n",
       "      <td>0.013527</td>\n",
       "    </tr>\n",
       "    <tr>\n",
       "      <td>average_montly_hours</td>\n",
       "      <td>-0.077454</td>\n",
       "      <td>0.537549</td>\n",
       "      <td>0.641086</td>\n",
       "      <td>1.000000</td>\n",
       "      <td>0.367474</td>\n",
       "      <td>-0.040887</td>\n",
       "      <td>-0.020368</td>\n",
       "      <td>0.030456</td>\n",
       "      <td>-0.005753</td>\n",
       "      <td>-0.012403</td>\n",
       "      <td>0.015874</td>\n",
       "      <td>-0.013378</td>\n",
       "      <td>-0.015704</td>\n",
       "      <td>-0.025297</td>\n",
       "      <td>-0.010358</td>\n",
       "      <td>0.038654</td>\n",
       "      <td>-0.011094</td>\n",
       "      <td>0.011758</td>\n",
       "    </tr>\n",
       "    <tr>\n",
       "      <td>time_spend_company</td>\n",
       "      <td>-0.060625</td>\n",
       "      <td>0.377069</td>\n",
       "      <td>0.384513</td>\n",
       "      <td>0.367474</td>\n",
       "      <td>1.000000</td>\n",
       "      <td>-0.055646</td>\n",
       "      <td>-0.004553</td>\n",
       "      <td>-0.001480</td>\n",
       "      <td>-0.000526</td>\n",
       "      <td>-0.014900</td>\n",
       "      <td>-0.018086</td>\n",
       "      <td>0.006202</td>\n",
       "      <td>0.011897</td>\n",
       "      <td>-0.018158</td>\n",
       "      <td>0.014222</td>\n",
       "      <td>0.015692</td>\n",
       "      <td>0.015225</td>\n",
       "      <td>0.000685</td>\n",
       "    </tr>\n",
       "    <tr>\n",
       "      <td>Work_accident</td>\n",
       "      <td>0.078396</td>\n",
       "      <td>-0.004005</td>\n",
       "      <td>-0.018201</td>\n",
       "      <td>-0.040887</td>\n",
       "      <td>-0.055646</td>\n",
       "      <td>1.000000</td>\n",
       "      <td>0.018857</td>\n",
       "      <td>0.022628</td>\n",
       "      <td>-0.020615</td>\n",
       "      <td>-0.017873</td>\n",
       "      <td>-0.009905</td>\n",
       "      <td>-0.032001</td>\n",
       "      <td>0.011417</td>\n",
       "      <td>0.003559</td>\n",
       "      <td>0.019257</td>\n",
       "      <td>0.007714</td>\n",
       "      <td>-0.001523</td>\n",
       "      <td>0.006417</td>\n",
       "    </tr>\n",
       "    <tr>\n",
       "      <td>promotion_last_5years</td>\n",
       "      <td>-0.010373</td>\n",
       "      <td>-0.026506</td>\n",
       "      <td>-0.025880</td>\n",
       "      <td>-0.020368</td>\n",
       "      <td>-0.004553</td>\n",
       "      <td>0.018857</td>\n",
       "      <td>1.000000</td>\n",
       "      <td>-0.010825</td>\n",
       "      <td>-0.010720</td>\n",
       "      <td>-0.010773</td>\n",
       "      <td>0.027834</td>\n",
       "      <td>-0.010799</td>\n",
       "      <td>-0.010668</td>\n",
       "      <td>0.010474</td>\n",
       "      <td>-0.003869</td>\n",
       "      <td>-0.007961</td>\n",
       "      <td>0.006869</td>\n",
       "      <td>-0.003182</td>\n",
       "    </tr>\n",
       "    <tr>\n",
       "      <td>department_RandD</td>\n",
       "      <td>0.008746</td>\n",
       "      <td>-0.003102</td>\n",
       "      <td>0.013825</td>\n",
       "      <td>0.030456</td>\n",
       "      <td>-0.001480</td>\n",
       "      <td>0.022628</td>\n",
       "      <td>-0.010825</td>\n",
       "      <td>1.000000</td>\n",
       "      <td>-0.057777</td>\n",
       "      <td>-0.058059</td>\n",
       "      <td>-0.039509</td>\n",
       "      <td>-0.058200</td>\n",
       "      <td>-0.057493</td>\n",
       "      <td>-0.147307</td>\n",
       "      <td>-0.103981</td>\n",
       "      <td>-0.119045</td>\n",
       "      <td>-0.017036</td>\n",
       "      <td>0.008521</td>\n",
       "    </tr>\n",
       "    <tr>\n",
       "      <td>department_accounting</td>\n",
       "      <td>-0.014789</td>\n",
       "      <td>0.002662</td>\n",
       "      <td>0.001343</td>\n",
       "      <td>-0.005753</td>\n",
       "      <td>-0.000526</td>\n",
       "      <td>-0.020615</td>\n",
       "      <td>-0.010720</td>\n",
       "      <td>-0.057777</td>\n",
       "      <td>1.000000</td>\n",
       "      <td>-0.057498</td>\n",
       "      <td>-0.039127</td>\n",
       "      <td>-0.057637</td>\n",
       "      <td>-0.056938</td>\n",
       "      <td>-0.145885</td>\n",
       "      <td>-0.102977</td>\n",
       "      <td>-0.117895</td>\n",
       "      <td>-0.007848</td>\n",
       "      <td>0.005532</td>\n",
       "    </tr>\n",
       "    <tr>\n",
       "      <td>department_hr</td>\n",
       "      <td>-0.005975</td>\n",
       "      <td>-0.025428</td>\n",
       "      <td>-0.032389</td>\n",
       "      <td>-0.012403</td>\n",
       "      <td>-0.014900</td>\n",
       "      <td>-0.017873</td>\n",
       "      <td>-0.010773</td>\n",
       "      <td>-0.058059</td>\n",
       "      <td>-0.057498</td>\n",
       "      <td>1.000000</td>\n",
       "      <td>-0.039318</td>\n",
       "      <td>-0.057919</td>\n",
       "      <td>-0.057216</td>\n",
       "      <td>-0.146598</td>\n",
       "      <td>-0.103480</td>\n",
       "      <td>-0.118471</td>\n",
       "      <td>-0.005815</td>\n",
       "      <td>0.005912</td>\n",
       "    </tr>\n",
       "    <tr>\n",
       "      <td>department_management</td>\n",
       "      <td>-0.014808</td>\n",
       "      <td>0.016586</td>\n",
       "      <td>0.008893</td>\n",
       "      <td>0.015874</td>\n",
       "      <td>-0.018086</td>\n",
       "      <td>-0.009905</td>\n",
       "      <td>0.027834</td>\n",
       "      <td>-0.039509</td>\n",
       "      <td>-0.039127</td>\n",
       "      <td>-0.039318</td>\n",
       "      <td>1.000000</td>\n",
       "      <td>-0.039414</td>\n",
       "      <td>-0.038935</td>\n",
       "      <td>-0.099759</td>\n",
       "      <td>-0.070417</td>\n",
       "      <td>-0.080619</td>\n",
       "      <td>-0.006538</td>\n",
       "      <td>0.004375</td>\n",
       "    </tr>\n",
       "    <tr>\n",
       "      <td>department_marketing</td>\n",
       "      <td>0.003861</td>\n",
       "      <td>-0.012772</td>\n",
       "      <td>-0.018646</td>\n",
       "      <td>-0.013378</td>\n",
       "      <td>0.006202</td>\n",
       "      <td>-0.032001</td>\n",
       "      <td>-0.010799</td>\n",
       "      <td>-0.058200</td>\n",
       "      <td>-0.057637</td>\n",
       "      <td>-0.057919</td>\n",
       "      <td>-0.039414</td>\n",
       "      <td>1.000000</td>\n",
       "      <td>-0.057355</td>\n",
       "      <td>-0.146953</td>\n",
       "      <td>-0.103731</td>\n",
       "      <td>-0.118758</td>\n",
       "      <td>0.015095</td>\n",
       "      <td>-0.012915</td>\n",
       "    </tr>\n",
       "    <tr>\n",
       "      <td>department_product_mng</td>\n",
       "      <td>0.018284</td>\n",
       "      <td>-0.019525</td>\n",
       "      <td>0.001872</td>\n",
       "      <td>-0.015704</td>\n",
       "      <td>0.011897</td>\n",
       "      <td>0.011417</td>\n",
       "      <td>-0.010668</td>\n",
       "      <td>-0.057493</td>\n",
       "      <td>-0.056938</td>\n",
       "      <td>-0.057216</td>\n",
       "      <td>-0.038935</td>\n",
       "      <td>-0.057355</td>\n",
       "      <td>1.000000</td>\n",
       "      <td>-0.145169</td>\n",
       "      <td>-0.102472</td>\n",
       "      <td>-0.117317</td>\n",
       "      <td>-0.009900</td>\n",
       "      <td>0.002887</td>\n",
       "    </tr>\n",
       "    <tr>\n",
       "      <td>department_sales</td>\n",
       "      <td>-0.000566</td>\n",
       "      <td>-0.031489</td>\n",
       "      <td>-0.030413</td>\n",
       "      <td>-0.025297</td>\n",
       "      <td>-0.018158</td>\n",
       "      <td>0.003559</td>\n",
       "      <td>0.010474</td>\n",
       "      <td>-0.147307</td>\n",
       "      <td>-0.145885</td>\n",
       "      <td>-0.146598</td>\n",
       "      <td>-0.099759</td>\n",
       "      <td>-0.146953</td>\n",
       "      <td>-0.145169</td>\n",
       "      <td>1.000000</td>\n",
       "      <td>-0.262550</td>\n",
       "      <td>-0.300586</td>\n",
       "      <td>0.020694</td>\n",
       "      <td>-0.022389</td>\n",
       "    </tr>\n",
       "    <tr>\n",
       "      <td>department_support</td>\n",
       "      <td>0.016298</td>\n",
       "      <td>0.020714</td>\n",
       "      <td>0.018211</td>\n",
       "      <td>-0.010358</td>\n",
       "      <td>0.014222</td>\n",
       "      <td>0.019257</td>\n",
       "      <td>-0.003869</td>\n",
       "      <td>-0.103981</td>\n",
       "      <td>-0.102977</td>\n",
       "      <td>-0.103480</td>\n",
       "      <td>-0.070417</td>\n",
       "      <td>-0.103731</td>\n",
       "      <td>-0.102472</td>\n",
       "      <td>-0.262550</td>\n",
       "      <td>1.000000</td>\n",
       "      <td>-0.212177</td>\n",
       "      <td>-0.013047</td>\n",
       "      <td>0.022736</td>\n",
       "    </tr>\n",
       "    <tr>\n",
       "      <td>department_technical</td>\n",
       "      <td>-0.013775</td>\n",
       "      <td>0.041210</td>\n",
       "      <td>0.031986</td>\n",
       "      <td>0.038654</td>\n",
       "      <td>0.015692</td>\n",
       "      <td>0.007714</td>\n",
       "      <td>-0.007961</td>\n",
       "      <td>-0.119045</td>\n",
       "      <td>-0.117895</td>\n",
       "      <td>-0.118471</td>\n",
       "      <td>-0.080619</td>\n",
       "      <td>-0.118758</td>\n",
       "      <td>-0.117317</td>\n",
       "      <td>-0.300586</td>\n",
       "      <td>-0.212177</td>\n",
       "      <td>1.000000</td>\n",
       "      <td>0.001253</td>\n",
       "      <td>0.001620</td>\n",
       "    </tr>\n",
       "    <tr>\n",
       "      <td>salary_low</td>\n",
       "      <td>-0.027210</td>\n",
       "      <td>0.006719</td>\n",
       "      <td>-0.012611</td>\n",
       "      <td>-0.011094</td>\n",
       "      <td>0.015225</td>\n",
       "      <td>-0.001523</td>\n",
       "      <td>0.006869</td>\n",
       "      <td>-0.017036</td>\n",
       "      <td>-0.007848</td>\n",
       "      <td>-0.005815</td>\n",
       "      <td>-0.006538</td>\n",
       "      <td>0.015095</td>\n",
       "      <td>-0.009900</td>\n",
       "      <td>0.020694</td>\n",
       "      <td>-0.013047</td>\n",
       "      <td>0.001253</td>\n",
       "      <td>1.000000</td>\n",
       "      <td>-0.919097</td>\n",
       "    </tr>\n",
       "    <tr>\n",
       "      <td>salary_medium</td>\n",
       "      <td>0.016227</td>\n",
       "      <td>-0.006512</td>\n",
       "      <td>0.013527</td>\n",
       "      <td>0.011758</td>\n",
       "      <td>0.000685</td>\n",
       "      <td>0.006417</td>\n",
       "      <td>-0.003182</td>\n",
       "      <td>0.008521</td>\n",
       "      <td>0.005532</td>\n",
       "      <td>0.005912</td>\n",
       "      <td>0.004375</td>\n",
       "      <td>-0.012915</td>\n",
       "      <td>0.002887</td>\n",
       "      <td>-0.022389</td>\n",
       "      <td>0.022736</td>\n",
       "      <td>0.001620</td>\n",
       "      <td>-0.919097</td>\n",
       "      <td>1.000000</td>\n",
       "    </tr>\n",
       "  </tbody>\n",
       "</table>\n",
       "</div>"
      ],
      "text/plain": [
       "                        satisfaction_level  last_evaluation  number_project  \\\n",
       "satisfaction_level                1.000000         0.120835       -0.174650   \n",
       "last_evaluation                   0.120835         1.000000        0.556127   \n",
       "number_project                   -0.174650         0.556127        1.000000   \n",
       "average_montly_hours             -0.077454         0.537549        0.641086   \n",
       "time_spend_company               -0.060625         0.377069        0.384513   \n",
       "Work_accident                     0.078396        -0.004005       -0.018201   \n",
       "promotion_last_5years            -0.010373        -0.026506       -0.025880   \n",
       "department_RandD                  0.008746        -0.003102        0.013825   \n",
       "department_accounting            -0.014789         0.002662        0.001343   \n",
       "department_hr                    -0.005975        -0.025428       -0.032389   \n",
       "department_management            -0.014808         0.016586        0.008893   \n",
       "department_marketing              0.003861        -0.012772       -0.018646   \n",
       "department_product_mng            0.018284        -0.019525        0.001872   \n",
       "department_sales                 -0.000566        -0.031489       -0.030413   \n",
       "department_support                0.016298         0.020714        0.018211   \n",
       "department_technical             -0.013775         0.041210        0.031986   \n",
       "salary_low                       -0.027210         0.006719       -0.012611   \n",
       "salary_medium                     0.016227        -0.006512        0.013527   \n",
       "\n",
       "                        average_montly_hours  time_spend_company  \\\n",
       "satisfaction_level                 -0.077454           -0.060625   \n",
       "last_evaluation                     0.537549            0.377069   \n",
       "number_project                      0.641086            0.384513   \n",
       "average_montly_hours                1.000000            0.367474   \n",
       "time_spend_company                  0.367474            1.000000   \n",
       "Work_accident                      -0.040887           -0.055646   \n",
       "promotion_last_5years              -0.020368           -0.004553   \n",
       "department_RandD                    0.030456           -0.001480   \n",
       "department_accounting              -0.005753           -0.000526   \n",
       "department_hr                      -0.012403           -0.014900   \n",
       "department_management               0.015874           -0.018086   \n",
       "department_marketing               -0.013378            0.006202   \n",
       "department_product_mng             -0.015704            0.011897   \n",
       "department_sales                   -0.025297           -0.018158   \n",
       "department_support                 -0.010358            0.014222   \n",
       "department_technical                0.038654            0.015692   \n",
       "salary_low                         -0.011094            0.015225   \n",
       "salary_medium                       0.011758            0.000685   \n",
       "\n",
       "                        Work_accident  promotion_last_5years  \\\n",
       "satisfaction_level           0.078396              -0.010373   \n",
       "last_evaluation             -0.004005              -0.026506   \n",
       "number_project              -0.018201              -0.025880   \n",
       "average_montly_hours        -0.040887              -0.020368   \n",
       "time_spend_company          -0.055646              -0.004553   \n",
       "Work_accident                1.000000               0.018857   \n",
       "promotion_last_5years        0.018857               1.000000   \n",
       "department_RandD             0.022628              -0.010825   \n",
       "department_accounting       -0.020615              -0.010720   \n",
       "department_hr               -0.017873              -0.010773   \n",
       "department_management       -0.009905               0.027834   \n",
       "department_marketing        -0.032001              -0.010799   \n",
       "department_product_mng       0.011417              -0.010668   \n",
       "department_sales             0.003559               0.010474   \n",
       "department_support           0.019257              -0.003869   \n",
       "department_technical         0.007714              -0.007961   \n",
       "salary_low                  -0.001523               0.006869   \n",
       "salary_medium                0.006417              -0.003182   \n",
       "\n",
       "                        department_RandD  department_accounting  \\\n",
       "satisfaction_level              0.008746              -0.014789   \n",
       "last_evaluation                -0.003102               0.002662   \n",
       "number_project                  0.013825               0.001343   \n",
       "average_montly_hours            0.030456              -0.005753   \n",
       "time_spend_company             -0.001480              -0.000526   \n",
       "Work_accident                   0.022628              -0.020615   \n",
       "promotion_last_5years          -0.010825              -0.010720   \n",
       "department_RandD                1.000000              -0.057777   \n",
       "department_accounting          -0.057777               1.000000   \n",
       "department_hr                  -0.058059              -0.057498   \n",
       "department_management          -0.039509              -0.039127   \n",
       "department_marketing           -0.058200              -0.057637   \n",
       "department_product_mng         -0.057493              -0.056938   \n",
       "department_sales               -0.147307              -0.145885   \n",
       "department_support             -0.103981              -0.102977   \n",
       "department_technical           -0.119045              -0.117895   \n",
       "salary_low                     -0.017036              -0.007848   \n",
       "salary_medium                   0.008521               0.005532   \n",
       "\n",
       "                        department_hr  department_management  \\\n",
       "satisfaction_level          -0.005975              -0.014808   \n",
       "last_evaluation             -0.025428               0.016586   \n",
       "number_project              -0.032389               0.008893   \n",
       "average_montly_hours        -0.012403               0.015874   \n",
       "time_spend_company          -0.014900              -0.018086   \n",
       "Work_accident               -0.017873              -0.009905   \n",
       "promotion_last_5years       -0.010773               0.027834   \n",
       "department_RandD            -0.058059              -0.039509   \n",
       "department_accounting       -0.057498              -0.039127   \n",
       "department_hr                1.000000              -0.039318   \n",
       "department_management       -0.039318               1.000000   \n",
       "department_marketing        -0.057919              -0.039414   \n",
       "department_product_mng      -0.057216              -0.038935   \n",
       "department_sales            -0.146598              -0.099759   \n",
       "department_support          -0.103480              -0.070417   \n",
       "department_technical        -0.118471              -0.080619   \n",
       "salary_low                  -0.005815              -0.006538   \n",
       "salary_medium                0.005912               0.004375   \n",
       "\n",
       "                        department_marketing  department_product_mng  \\\n",
       "satisfaction_level                  0.003861                0.018284   \n",
       "last_evaluation                    -0.012772               -0.019525   \n",
       "number_project                     -0.018646                0.001872   \n",
       "average_montly_hours               -0.013378               -0.015704   \n",
       "time_spend_company                  0.006202                0.011897   \n",
       "Work_accident                      -0.032001                0.011417   \n",
       "promotion_last_5years              -0.010799               -0.010668   \n",
       "department_RandD                   -0.058200               -0.057493   \n",
       "department_accounting              -0.057637               -0.056938   \n",
       "department_hr                      -0.057919               -0.057216   \n",
       "department_management              -0.039414               -0.038935   \n",
       "department_marketing                1.000000               -0.057355   \n",
       "department_product_mng             -0.057355                1.000000   \n",
       "department_sales                   -0.146953               -0.145169   \n",
       "department_support                 -0.103731               -0.102472   \n",
       "department_technical               -0.118758               -0.117317   \n",
       "salary_low                          0.015095               -0.009900   \n",
       "salary_medium                      -0.012915                0.002887   \n",
       "\n",
       "                        department_sales  department_support  \\\n",
       "satisfaction_level             -0.000566            0.016298   \n",
       "last_evaluation                -0.031489            0.020714   \n",
       "number_project                 -0.030413            0.018211   \n",
       "average_montly_hours           -0.025297           -0.010358   \n",
       "time_spend_company             -0.018158            0.014222   \n",
       "Work_accident                   0.003559            0.019257   \n",
       "promotion_last_5years           0.010474           -0.003869   \n",
       "department_RandD               -0.147307           -0.103981   \n",
       "department_accounting          -0.145885           -0.102977   \n",
       "department_hr                  -0.146598           -0.103480   \n",
       "department_management          -0.099759           -0.070417   \n",
       "department_marketing           -0.146953           -0.103731   \n",
       "department_product_mng         -0.145169           -0.102472   \n",
       "department_sales                1.000000           -0.262550   \n",
       "department_support             -0.262550            1.000000   \n",
       "department_technical           -0.300586           -0.212177   \n",
       "salary_low                      0.020694           -0.013047   \n",
       "salary_medium                  -0.022389            0.022736   \n",
       "\n",
       "                        department_technical  salary_low  salary_medium  \n",
       "satisfaction_level                 -0.013775   -0.027210       0.016227  \n",
       "last_evaluation                     0.041210    0.006719      -0.006512  \n",
       "number_project                      0.031986   -0.012611       0.013527  \n",
       "average_montly_hours                0.038654   -0.011094       0.011758  \n",
       "time_spend_company                  0.015692    0.015225       0.000685  \n",
       "Work_accident                       0.007714   -0.001523       0.006417  \n",
       "promotion_last_5years              -0.007961    0.006869      -0.003182  \n",
       "department_RandD                   -0.119045   -0.017036       0.008521  \n",
       "department_accounting              -0.117895   -0.007848       0.005532  \n",
       "department_hr                      -0.118471   -0.005815       0.005912  \n",
       "department_management              -0.080619   -0.006538       0.004375  \n",
       "department_marketing               -0.118758    0.015095      -0.012915  \n",
       "department_product_mng             -0.117317   -0.009900       0.002887  \n",
       "department_sales                   -0.300586    0.020694      -0.022389  \n",
       "department_support                 -0.212177   -0.013047       0.022736  \n",
       "department_technical                1.000000    0.001253       0.001620  \n",
       "salary_low                          0.001253    1.000000      -0.919097  \n",
       "salary_medium                       0.001620   -0.919097       1.000000  "
      ]
     },
     "execution_count": 20,
     "metadata": {},
     "output_type": "execute_result"
    }
   ],
   "source": [
    "data_x.corr()"
   ]
  },
  {
   "cell_type": "code",
   "execution_count": 21,
   "metadata": {},
   "outputs": [],
   "source": [
    "import seaborn as sns\n",
    "import matplotlib.pyplot as plt"
   ]
  },
  {
   "cell_type": "code",
   "execution_count": 22,
   "metadata": {},
   "outputs": [
    {
     "data": {
      "image/png": "[encoded data removed]",
      "text/plain": [
       "<Figure size 1440x720 with 2 Axes>"
      ]
     },
     "metadata": {
      "needs_background": "light"
     },
     "output_type": "display_data"
    }
   ],
   "source": [
    "plt.figure(figsize=(20,10))\n",
    "sns.heatmap(data_x.corr())\n",
    "plt.show()"
   ]
  },
  {
   "cell_type": "markdown",
   "metadata": {},
   "source": [
    "# Feature Reduction"
   ]
  },
  {
   "cell_type": "markdown",
   "metadata": {},
   "source": [
    "### Weight of Evidence"
   ]
  },
  {
   "cell_type": "code",
   "execution_count": 23,
   "metadata": {},
   "outputs": [
    {
     "data": {
      "text/plain": [
       "satisfaction_level       float64\n",
       "last_evaluation          float64\n",
       "number_project             int64\n",
       "average_montly_hours       int64\n",
       "time_spend_company         int64\n",
       "Work_accident              int64\n",
       "left                       int64\n",
       "promotion_last_5years      int64\n",
       "department                object\n",
       "salary                    object\n",
       "dtype: object"
      ]
     },
     "execution_count": 23,
     "metadata": {},
     "output_type": "execute_result"
    }
   ],
   "source": [
    "data_bal.dtypes"
   ]
  },
  {
   "cell_type": "code",
   "execution_count": 24,
   "metadata": {},
   "outputs": [],
   "source": [
    "data_bal_num = data_bal[data_bal.columns.difference(['department','salary'])]"
   ]
  },
  {
   "cell_type": "markdown",
   "metadata": {},
   "source": [
    "Should be performed after Encoding"
   ]
  },
  {
   "cell_type": "code",
   "execution_count": 29,
   "metadata": {},
   "outputs": [
    {
     "name": "stdout",
     "output_type": "stream",
     "text": [
      "Work_accident\n",
      "average_montly_hours\n"
     ]
    },
    {
     "name": "stderr",
     "output_type": "stream",
     "text": [
      "C:\\Users\\guru\\Anaconda3\\lib\\site-packages\\pandas\\core\\series.py:853: RuntimeWarning: divide by zero encountered in log\n",
      "  result = getattr(ufunc, method)(*inputs, **kwargs)\n"
     ]
    },
    {
     "name": "stdout",
     "output_type": "stream",
     "text": [
      "last_evaluation\n",
      "number_project\n",
      "promotion_last_5years\n",
      "satisfaction_level\n",
      "time_spend_company\n"
     ]
    },
    {
     "data": {
      "image/png": "[encoded data removed]",
      "text/plain": [
       "<Figure size 720x288 with 1 Axes>"
      ]
     },
     "metadata": {
      "needs_background": "light"
     },
     "output_type": "display_data"
    },
    {
     "data": {
      "image/png": "[encoded data removed]",
      "text/plain": [
       "<Figure size 720x288 with 1 Axes>"
      ]
     },
     "metadata": {
      "needs_background": "light"
     },
     "output_type": "display_data"
    },
    {
     "data": {
      "image/png": "[encoded data removed]",
      "text/plain": [
       "<Figure size 720x288 with 1 Axes>"
      ]
     },
     "metadata": {
      "needs_background": "light"
     },
     "output_type": "display_data"
    },
    {
     "data": {
      "image/png": "[encoded data removed]",
      "text/plain": [
       "<Figure size 720x288 with 1 Axes>"
      ]
     },
     "metadata": {
      "needs_background": "light"
     },
     "output_type": "display_data"
    },
    {
     "data": {
      "image/png": "[encoded data removed]",
      "text/plain": [
       "<Figure size 720x288 with 1 Axes>"
      ]
     },
     "metadata": {
      "needs_background": "light"
     },
     "output_type": "display_data"
    },
    {
     "data": {
      "image/png": "[encoded data removed]",
      "text/plain": [
       "<Figure size 720x288 with 1 Axes>"
      ]
     },
     "metadata": {
      "needs_background": "light"
     },
     "output_type": "display_data"
    },
    {
     "data": {
      "image/png": "[encoded data removed]",
      "text/plain": [
       "<Figure size 720x288 with 1 Axes>"
      ]
     },
     "metadata": {
      "needs_background": "light"
     },
     "output_type": "display_data"
    }
   ],
   "source": [
    "from matplotlib.backends.backend_pdf import PdfPages\n",
    "bp = PdfPages('Transformation Plots.pdf')\n",
    "\n",
    "for num_variable in data_bal_num.columns.difference(['left']):\n",
    "    print(num_variable)\n",
    "    binned = pd.cut(data_bal_num[num_variable], bins=10, labels=list(range(1,11)))\n",
    "    #binned = binned.dropna()\n",
    "    odds = data_bal_num.groupby(binned)['left'].sum() / (data_bal_num.groupby(binned)['left'].count()-data_bal_num.groupby(binned)['left'].sum())\n",
    "    log_odds = np.log(odds)\n",
    "    fig,axes = plt.subplots(figsize=(10,4))\n",
    "    sns.barplot(x=log_odds.index,y=log_odds)\n",
    "    plt.ylabel('Log Odds Ratio')\n",
    "    plt.title(str('Logit Plot for identifying if the bucketing is required or not for variable ') + str(num_variable))\n",
    "    bp.savefig(fig)\n",
    "\n",
    "bp.close()"
   ]
  },
  {
   "cell_type": "markdown",
   "metadata": {},
   "source": [
    "### VIF"
   ]
  },
  {
   "cell_type": "code",
   "execution_count": 30,
   "metadata": {},
   "outputs": [],
   "source": [
    "from patsy import dmatrices\n",
    "from statsmodels.stats.outliers_influence import variance_inflation_factor\n",
    "\n",
    "a,b = dmatrices(formula_like='left ~ '+ 'Work_accident+average_montly_hours+department+last_evaluation+number_project+promotion_last_5years+salary+satisfaction_level+time_spend_company', data = data_bal, return_type='dataframe')\n",
    "\n",
    "vif = pd.DataFrame()\n",
    "vif[\"VIF Factor\"] = [variance_inflation_factor(b.values, i) for i in range(b.shape[1])]\n",
    "vif[\"features\"] = b.columns"
   ]
  },
  {
   "cell_type": "code",
   "execution_count": 31,
   "metadata": {},
   "outputs": [
    {
     "data": {
      "text/html": [
       "<div>\n",
       "<style scoped>\n",
       "    .dataframe tbody tr th:only-of-type {\n",
       "        vertical-align: middle;\n",
       "    }\n",
       "\n",
       "    .dataframe tbody tr th {\n",
       "        vertical-align: top;\n",
       "    }\n",
       "\n",
       "    .dataframe thead th {\n",
       "        text-align: right;\n",
       "    }\n",
       "</style>\n",
       "<table border=\"1\" class=\"dataframe\">\n",
       "  <thead>\n",
       "    <tr style=\"text-align: right;\">\n",
       "      <th></th>\n",
       "      <th>VIF Factor</th>\n",
       "      <th>features</th>\n",
       "    </tr>\n",
       "  </thead>\n",
       "  <tbody>\n",
       "    <tr>\n",
       "      <td>16</td>\n",
       "      <td>1.003824</td>\n",
       "      <td>promotion_last_5years</td>\n",
       "    </tr>\n",
       "    <tr>\n",
       "      <td>12</td>\n",
       "      <td>1.013646</td>\n",
       "      <td>Work_accident</td>\n",
       "    </tr>\n",
       "    <tr>\n",
       "      <td>17</td>\n",
       "      <td>1.124228</td>\n",
       "      <td>satisfaction_level</td>\n",
       "    </tr>\n",
       "    <tr>\n",
       "      <td>18</td>\n",
       "      <td>1.256923</td>\n",
       "      <td>time_spend_company</td>\n",
       "    </tr>\n",
       "    <tr>\n",
       "      <td>4</td>\n",
       "      <td>1.298062</td>\n",
       "      <td>department[T.management]</td>\n",
       "    </tr>\n",
       "    <tr>\n",
       "      <td>6</td>\n",
       "      <td>1.595112</td>\n",
       "      <td>department[T.product_mng]</td>\n",
       "    </tr>\n",
       "    <tr>\n",
       "      <td>2</td>\n",
       "      <td>1.598304</td>\n",
       "      <td>department[T.accounting]</td>\n",
       "    </tr>\n",
       "    <tr>\n",
       "      <td>3</td>\n",
       "      <td>1.604424</td>\n",
       "      <td>department[T.hr]</td>\n",
       "    </tr>\n",
       "    <tr>\n",
       "      <td>5</td>\n",
       "      <td>1.606825</td>\n",
       "      <td>department[T.marketing]</td>\n",
       "    </tr>\n",
       "    <tr>\n",
       "      <td>1</td>\n",
       "      <td>1.610808</td>\n",
       "      <td>department[T.RandD]</td>\n",
       "    </tr>\n",
       "    <tr>\n",
       "      <td>14</td>\n",
       "      <td>1.756396</td>\n",
       "      <td>last_evaluation</td>\n",
       "    </tr>\n",
       "    <tr>\n",
       "      <td>13</td>\n",
       "      <td>1.881938</td>\n",
       "      <td>average_montly_hours</td>\n",
       "    </tr>\n",
       "    <tr>\n",
       "      <td>15</td>\n",
       "      <td>2.063331</td>\n",
       "      <td>number_project</td>\n",
       "    </tr>\n",
       "    <tr>\n",
       "      <td>8</td>\n",
       "      <td>2.524857</td>\n",
       "      <td>department[T.support]</td>\n",
       "    </tr>\n",
       "    <tr>\n",
       "      <td>9</td>\n",
       "      <td>2.806771</td>\n",
       "      <td>department[T.technical]</td>\n",
       "    </tr>\n",
       "    <tr>\n",
       "      <td>7</td>\n",
       "      <td>3.243024</td>\n",
       "      <td>department[T.sales]</td>\n",
       "    </tr>\n",
       "    <tr>\n",
       "      <td>11</td>\n",
       "      <td>6.464439</td>\n",
       "      <td>salary[T.medium]</td>\n",
       "    </tr>\n",
       "    <tr>\n",
       "      <td>10</td>\n",
       "      <td>6.470867</td>\n",
       "      <td>salary[T.low]</td>\n",
       "    </tr>\n",
       "    <tr>\n",
       "      <td>0</td>\n",
       "      <td>62.451003</td>\n",
       "      <td>Intercept</td>\n",
       "    </tr>\n",
       "  </tbody>\n",
       "</table>\n",
       "</div>"
      ],
      "text/plain": [
       "    VIF Factor                   features\n",
       "16    1.003824      promotion_last_5years\n",
       "12    1.013646              Work_accident\n",
       "17    1.124228         satisfaction_level\n",
       "18    1.256923         time_spend_company\n",
       "4     1.298062   department[T.management]\n",
       "6     1.595112  department[T.product_mng]\n",
       "2     1.598304   department[T.accounting]\n",
       "3     1.604424           department[T.hr]\n",
       "5     1.606825    department[T.marketing]\n",
       "1     1.610808        department[T.RandD]\n",
       "14    1.756396            last_evaluation\n",
       "13    1.881938       average_montly_hours\n",
       "15    2.063331             number_project\n",
       "8     2.524857      department[T.support]\n",
       "9     2.806771    department[T.technical]\n",
       "7     3.243024        department[T.sales]\n",
       "11    6.464439           salary[T.medium]\n",
       "10    6.470867              salary[T.low]\n",
       "0    62.451003                  Intercept"
      ]
     },
     "execution_count": 31,
     "metadata": {},
     "output_type": "execute_result"
    }
   ],
   "source": [
    "vif.sort_values(by=['VIF Factor'])"
   ]
  },
  {
   "cell_type": "markdown",
   "metadata": {},
   "source": [
    "As per the above Feature Reduction techniques,\n",
    "- Weight of Evidence - All rows are seem to be equally weighted\n",
    "- VIF - All rows seemed to be having very low VIF scores (except the \"salary\" > 5)"
   ]
  },
  {
   "cell_type": "code",
   "execution_count": 25,
   "metadata": {},
   "outputs": [],
   "source": [
    "data_f= pd.concat([data_x,data_y],axis=1)"
   ]
  },
  {
   "cell_type": "code",
   "execution_count": 26,
   "metadata": {},
   "outputs": [
    {
     "data": {
      "text/plain": [
       "(3991, 19)"
      ]
     },
     "execution_count": 26,
     "metadata": {},
     "output_type": "execute_result"
    }
   ],
   "source": [
    "data_f.shape"
   ]
  },
  {
   "cell_type": "code",
   "execution_count": 27,
   "metadata": {},
   "outputs": [
    {
     "data": {
      "text/html": [
       "<div>\n",
       "<style scoped>\n",
       "    .dataframe tbody tr th:only-of-type {\n",
       "        vertical-align: middle;\n",
       "    }\n",
       "\n",
       "    .dataframe tbody tr th {\n",
       "        vertical-align: top;\n",
       "    }\n",
       "\n",
       "    .dataframe thead th {\n",
       "        text-align: right;\n",
       "    }\n",
       "</style>\n",
       "<table border=\"1\" class=\"dataframe\">\n",
       "  <thead>\n",
       "    <tr style=\"text-align: right;\">\n",
       "      <th></th>\n",
       "      <th>satisfaction_level</th>\n",
       "      <th>last_evaluation</th>\n",
       "      <th>number_project</th>\n",
       "      <th>average_montly_hours</th>\n",
       "      <th>time_spend_company</th>\n",
       "      <th>Work_accident</th>\n",
       "      <th>promotion_last_5years</th>\n",
       "      <th>department_RandD</th>\n",
       "      <th>department_accounting</th>\n",
       "      <th>department_hr</th>\n",
       "      <th>department_management</th>\n",
       "      <th>department_marketing</th>\n",
       "      <th>department_product_mng</th>\n",
       "      <th>department_sales</th>\n",
       "      <th>department_support</th>\n",
       "      <th>department_technical</th>\n",
       "      <th>salary_low</th>\n",
       "      <th>salary_medium</th>\n",
       "      <th>left</th>\n",
       "    </tr>\n",
       "  </thead>\n",
       "  <tbody>\n",
       "    <tr>\n",
       "      <td>2000</td>\n",
       "      <td>0.58</td>\n",
       "      <td>0.74</td>\n",
       "      <td>4</td>\n",
       "      <td>215</td>\n",
       "      <td>3</td>\n",
       "      <td>0</td>\n",
       "      <td>0</td>\n",
       "      <td>0</td>\n",
       "      <td>0</td>\n",
       "      <td>0</td>\n",
       "      <td>0</td>\n",
       "      <td>0</td>\n",
       "      <td>0</td>\n",
       "      <td>1</td>\n",
       "      <td>0</td>\n",
       "      <td>0</td>\n",
       "      <td>1</td>\n",
       "      <td>0</td>\n",
       "      <td>0</td>\n",
       "    </tr>\n",
       "    <tr>\n",
       "      <td>2001</td>\n",
       "      <td>0.82</td>\n",
       "      <td>0.67</td>\n",
       "      <td>2</td>\n",
       "      <td>202</td>\n",
       "      <td>3</td>\n",
       "      <td>0</td>\n",
       "      <td>0</td>\n",
       "      <td>0</td>\n",
       "      <td>0</td>\n",
       "      <td>0</td>\n",
       "      <td>0</td>\n",
       "      <td>0</td>\n",
       "      <td>0</td>\n",
       "      <td>1</td>\n",
       "      <td>0</td>\n",
       "      <td>0</td>\n",
       "      <td>1</td>\n",
       "      <td>0</td>\n",
       "      <td>0</td>\n",
       "    </tr>\n",
       "    <tr>\n",
       "      <td>2002</td>\n",
       "      <td>0.45</td>\n",
       "      <td>0.69</td>\n",
       "      <td>5</td>\n",
       "      <td>193</td>\n",
       "      <td>3</td>\n",
       "      <td>0</td>\n",
       "      <td>0</td>\n",
       "      <td>0</td>\n",
       "      <td>0</td>\n",
       "      <td>0</td>\n",
       "      <td>0</td>\n",
       "      <td>0</td>\n",
       "      <td>0</td>\n",
       "      <td>1</td>\n",
       "      <td>0</td>\n",
       "      <td>0</td>\n",
       "      <td>1</td>\n",
       "      <td>0</td>\n",
       "      <td>0</td>\n",
       "    </tr>\n",
       "    <tr>\n",
       "      <td>2003</td>\n",
       "      <td>0.78</td>\n",
       "      <td>0.82</td>\n",
       "      <td>5</td>\n",
       "      <td>247</td>\n",
       "      <td>3</td>\n",
       "      <td>0</td>\n",
       "      <td>0</td>\n",
       "      <td>0</td>\n",
       "      <td>0</td>\n",
       "      <td>0</td>\n",
       "      <td>0</td>\n",
       "      <td>0</td>\n",
       "      <td>0</td>\n",
       "      <td>1</td>\n",
       "      <td>0</td>\n",
       "      <td>0</td>\n",
       "      <td>1</td>\n",
       "      <td>0</td>\n",
       "      <td>0</td>\n",
       "    </tr>\n",
       "    <tr>\n",
       "      <td>2004</td>\n",
       "      <td>0.49</td>\n",
       "      <td>0.60</td>\n",
       "      <td>3</td>\n",
       "      <td>214</td>\n",
       "      <td>2</td>\n",
       "      <td>0</td>\n",
       "      <td>0</td>\n",
       "      <td>0</td>\n",
       "      <td>0</td>\n",
       "      <td>0</td>\n",
       "      <td>0</td>\n",
       "      <td>0</td>\n",
       "      <td>0</td>\n",
       "      <td>1</td>\n",
       "      <td>0</td>\n",
       "      <td>0</td>\n",
       "      <td>1</td>\n",
       "      <td>0</td>\n",
       "      <td>0</td>\n",
       "    </tr>\n",
       "  </tbody>\n",
       "</table>\n",
       "</div>"
      ],
      "text/plain": [
       "      satisfaction_level  last_evaluation  number_project  \\\n",
       "2000                0.58             0.74               4   \n",
       "2001                0.82             0.67               2   \n",
       "2002                0.45             0.69               5   \n",
       "2003                0.78             0.82               5   \n",
       "2004                0.49             0.60               3   \n",
       "\n",
       "      average_montly_hours  time_spend_company  Work_accident  \\\n",
       "2000                   215                   3              0   \n",
       "2001                   202                   3              0   \n",
       "2002                   193                   3              0   \n",
       "2003                   247                   3              0   \n",
       "2004                   214                   2              0   \n",
       "\n",
       "      promotion_last_5years  department_RandD  department_accounting  \\\n",
       "2000                      0                 0                      0   \n",
       "2001                      0                 0                      0   \n",
       "2002                      0                 0                      0   \n",
       "2003                      0                 0                      0   \n",
       "2004                      0                 0                      0   \n",
       "\n",
       "      department_hr  department_management  department_marketing  \\\n",
       "2000              0                      0                     0   \n",
       "2001              0                      0                     0   \n",
       "2002              0                      0                     0   \n",
       "2003              0                      0                     0   \n",
       "2004              0                      0                     0   \n",
       "\n",
       "      department_product_mng  department_sales  department_support  \\\n",
       "2000                       0                 1                   0   \n",
       "2001                       0                 1                   0   \n",
       "2002                       0                 1                   0   \n",
       "2003                       0                 1                   0   \n",
       "2004                       0                 1                   0   \n",
       "\n",
       "      department_technical  salary_low  salary_medium  left  \n",
       "2000                     0           1              0     0  \n",
       "2001                     0           1              0     0  \n",
       "2002                     0           1              0     0  \n",
       "2003                     0           1              0     0  \n",
       "2004                     0           1              0     0  "
      ]
     },
     "execution_count": 27,
     "metadata": {},
     "output_type": "execute_result"
    }
   ],
   "source": [
    "data_f.head()"
   ]
  },
  {
   "cell_type": "code",
   "execution_count": 28,
   "metadata": {},
   "outputs": [],
   "source": [
    "data_f_x = data_f[data_f.columns.difference(['left'])]\n",
    "data_f_y = data_f['left']"
   ]
  },
  {
   "cell_type": "markdown",
   "metadata": {},
   "source": [
    "**Resampling**"
   ]
  },
  {
   "cell_type": "code",
   "execution_count": 29,
   "metadata": {},
   "outputs": [],
   "source": [
    "from sklearn.model_selection import train_test_split\n",
    "#Train and Test split\n",
    "train_x, test_x, train_y, test_y = train_test_split(data_f_x,data_f_y, test_size=0.3, random_state=42)"
   ]
  },
  {
   "cell_type": "code",
   "execution_count": 30,
   "metadata": {},
   "outputs": [],
   "source": [
    "train, test = train_test_split(data_f,test_size=0.3,random_state=42)"
   ]
  },
  {
   "cell_type": "code",
   "execution_count": 31,
   "metadata": {},
   "outputs": [
    {
     "data": {
      "text/plain": [
       "((2793, 18), (2793,))"
      ]
     },
     "execution_count": 31,
     "metadata": {},
     "output_type": "execute_result"
    }
   ],
   "source": [
    "train_x.shape, train_y.shape"
   ]
  },
  {
   "cell_type": "code",
   "execution_count": 32,
   "metadata": {},
   "outputs": [
    {
     "data": {
      "text/html": [
       "<div>\n",
       "<style scoped>\n",
       "    .dataframe tbody tr th:only-of-type {\n",
       "        vertical-align: middle;\n",
       "    }\n",
       "\n",
       "    .dataframe tbody tr th {\n",
       "        vertical-align: top;\n",
       "    }\n",
       "\n",
       "    .dataframe thead th {\n",
       "        text-align: right;\n",
       "    }\n",
       "</style>\n",
       "<table border=\"1\" class=\"dataframe\">\n",
       "  <thead>\n",
       "    <tr style=\"text-align: right;\">\n",
       "      <th></th>\n",
       "      <th>Work_accident</th>\n",
       "      <th>average_montly_hours</th>\n",
       "      <th>department_RandD</th>\n",
       "      <th>department_accounting</th>\n",
       "      <th>department_hr</th>\n",
       "      <th>department_management</th>\n",
       "      <th>department_marketing</th>\n",
       "      <th>department_product_mng</th>\n",
       "      <th>department_sales</th>\n",
       "      <th>department_support</th>\n",
       "      <th>department_technical</th>\n",
       "      <th>last_evaluation</th>\n",
       "      <th>number_project</th>\n",
       "      <th>promotion_last_5years</th>\n",
       "      <th>salary_low</th>\n",
       "      <th>salary_medium</th>\n",
       "      <th>satisfaction_level</th>\n",
       "      <th>time_spend_company</th>\n",
       "    </tr>\n",
       "  </thead>\n",
       "  <tbody>\n",
       "    <tr>\n",
       "      <td>1512</td>\n",
       "      <td>0</td>\n",
       "      <td>143</td>\n",
       "      <td>0</td>\n",
       "      <td>0</td>\n",
       "      <td>0</td>\n",
       "      <td>0</td>\n",
       "      <td>0</td>\n",
       "      <td>0</td>\n",
       "      <td>0</td>\n",
       "      <td>0</td>\n",
       "      <td>0</td>\n",
       "      <td>0.52</td>\n",
       "      <td>2</td>\n",
       "      <td>0</td>\n",
       "      <td>0</td>\n",
       "      <td>1</td>\n",
       "      <td>0.45</td>\n",
       "      <td>3</td>\n",
       "    </tr>\n",
       "    <tr>\n",
       "      <td>1176</td>\n",
       "      <td>1</td>\n",
       "      <td>151</td>\n",
       "      <td>0</td>\n",
       "      <td>0</td>\n",
       "      <td>1</td>\n",
       "      <td>0</td>\n",
       "      <td>0</td>\n",
       "      <td>0</td>\n",
       "      <td>0</td>\n",
       "      <td>0</td>\n",
       "      <td>0</td>\n",
       "      <td>0.50</td>\n",
       "      <td>2</td>\n",
       "      <td>0</td>\n",
       "      <td>1</td>\n",
       "      <td>0</td>\n",
       "      <td>0.38</td>\n",
       "      <td>3</td>\n",
       "    </tr>\n",
       "  </tbody>\n",
       "</table>\n",
       "</div>"
      ],
      "text/plain": [
       "      Work_accident  average_montly_hours  department_RandD  \\\n",
       "1512              0                   143                 0   \n",
       "1176              1                   151                 0   \n",
       "\n",
       "      department_accounting  department_hr  department_management  \\\n",
       "1512                      0              0                      0   \n",
       "1176                      0              1                      0   \n",
       "\n",
       "      department_marketing  department_product_mng  department_sales  \\\n",
       "1512                     0                       0                 0   \n",
       "1176                     0                       0                 0   \n",
       "\n",
       "      department_support  department_technical  last_evaluation  \\\n",
       "1512                   0                     0             0.52   \n",
       "1176                   0                     0             0.50   \n",
       "\n",
       "      number_project  promotion_last_5years  salary_low  salary_medium  \\\n",
       "1512               2                      0           0              1   \n",
       "1176               2                      0           1              0   \n",
       "\n",
       "      satisfaction_level  time_spend_company  \n",
       "1512                0.45                   3  \n",
       "1176                0.38                   3  "
      ]
     },
     "execution_count": 32,
     "metadata": {},
     "output_type": "execute_result"
    }
   ],
   "source": [
    "train_x.tail(2)"
   ]
  },
  {
   "cell_type": "code",
   "execution_count": 33,
   "metadata": {},
   "outputs": [
    {
     "data": {
      "text/html": [
       "<div>\n",
       "<style scoped>\n",
       "    .dataframe tbody tr th:only-of-type {\n",
       "        vertical-align: middle;\n",
       "    }\n",
       "\n",
       "    .dataframe tbody tr th {\n",
       "        vertical-align: top;\n",
       "    }\n",
       "\n",
       "    .dataframe thead th {\n",
       "        text-align: right;\n",
       "    }\n",
       "</style>\n",
       "<table border=\"1\" class=\"dataframe\">\n",
       "  <thead>\n",
       "    <tr style=\"text-align: right;\">\n",
       "      <th></th>\n",
       "      <th>satisfaction_level</th>\n",
       "      <th>last_evaluation</th>\n",
       "      <th>number_project</th>\n",
       "      <th>average_montly_hours</th>\n",
       "      <th>time_spend_company</th>\n",
       "      <th>Work_accident</th>\n",
       "      <th>promotion_last_5years</th>\n",
       "      <th>department_RandD</th>\n",
       "      <th>department_accounting</th>\n",
       "      <th>department_hr</th>\n",
       "      <th>department_management</th>\n",
       "      <th>department_marketing</th>\n",
       "      <th>department_product_mng</th>\n",
       "      <th>department_sales</th>\n",
       "      <th>department_support</th>\n",
       "      <th>department_technical</th>\n",
       "      <th>salary_low</th>\n",
       "      <th>salary_medium</th>\n",
       "      <th>left</th>\n",
       "    </tr>\n",
       "  </thead>\n",
       "  <tbody>\n",
       "    <tr>\n",
       "      <td>1512</td>\n",
       "      <td>0.45</td>\n",
       "      <td>0.52</td>\n",
       "      <td>2</td>\n",
       "      <td>143</td>\n",
       "      <td>3</td>\n",
       "      <td>0</td>\n",
       "      <td>0</td>\n",
       "      <td>0</td>\n",
       "      <td>0</td>\n",
       "      <td>0</td>\n",
       "      <td>0</td>\n",
       "      <td>0</td>\n",
       "      <td>0</td>\n",
       "      <td>0</td>\n",
       "      <td>0</td>\n",
       "      <td>0</td>\n",
       "      <td>0</td>\n",
       "      <td>1</td>\n",
       "      <td>1</td>\n",
       "    </tr>\n",
       "    <tr>\n",
       "      <td>1176</td>\n",
       "      <td>0.38</td>\n",
       "      <td>0.50</td>\n",
       "      <td>2</td>\n",
       "      <td>151</td>\n",
       "      <td>3</td>\n",
       "      <td>1</td>\n",
       "      <td>0</td>\n",
       "      <td>0</td>\n",
       "      <td>0</td>\n",
       "      <td>1</td>\n",
       "      <td>0</td>\n",
       "      <td>0</td>\n",
       "      <td>0</td>\n",
       "      <td>0</td>\n",
       "      <td>0</td>\n",
       "      <td>0</td>\n",
       "      <td>1</td>\n",
       "      <td>0</td>\n",
       "      <td>1</td>\n",
       "    </tr>\n",
       "  </tbody>\n",
       "</table>\n",
       "</div>"
      ],
      "text/plain": [
       "      satisfaction_level  last_evaluation  number_project  \\\n",
       "1512                0.45             0.52               2   \n",
       "1176                0.38             0.50               2   \n",
       "\n",
       "      average_montly_hours  time_spend_company  Work_accident  \\\n",
       "1512                   143                   3              0   \n",
       "1176                   151                   3              1   \n",
       "\n",
       "      promotion_last_5years  department_RandD  department_accounting  \\\n",
       "1512                      0                 0                      0   \n",
       "1176                      0                 0                      0   \n",
       "\n",
       "      department_hr  department_management  department_marketing  \\\n",
       "1512              0                      0                     0   \n",
       "1176              1                      0                     0   \n",
       "\n",
       "      department_product_mng  department_sales  department_support  \\\n",
       "1512                       0                 0                   0   \n",
       "1176                       0                 0                   0   \n",
       "\n",
       "      department_technical  salary_low  salary_medium  left  \n",
       "1512                     0           0              1     1  \n",
       "1176                     0           1              0     1  "
      ]
     },
     "execution_count": 33,
     "metadata": {},
     "output_type": "execute_result"
    }
   ],
   "source": [
    "train.tail(2)"
   ]
  },
  {
   "cell_type": "markdown",
   "metadata": {},
   "source": [
    "## Model Implementation"
   ]
  },
  {
   "cell_type": "code",
   "execution_count": 34,
   "metadata": {
    "scrolled": true
   },
   "outputs": [
    {
     "data": {
      "text/plain": [
       "Index(['satisfaction_level', 'last_evaluation', 'number_project',\n",
       "       'average_montly_hours', 'time_spend_company', 'Work_accident',\n",
       "       'promotion_last_5years', 'department_RandD', 'department_accounting',\n",
       "       'department_hr', 'department_management', 'department_marketing',\n",
       "       'department_product_mng', 'department_sales', 'department_support',\n",
       "       'department_technical', 'salary_low', 'salary_medium', 'left'],\n",
       "      dtype='object')"
      ]
     },
     "execution_count": 34,
     "metadata": {},
     "output_type": "execute_result"
    }
   ],
   "source": [
    "train.columns"
   ]
  },
  {
   "cell_type": "markdown",
   "metadata": {},
   "source": [
    "satisfaction_level+last_evaluation+number_project+average_montly_hours+time_spend_company+Work_accident+promotion_last_5years+department_RandD+department_accounting+department_hr+department_management+department_marketing+department_product_mng+department_sales+department_support+department_technical+salary_low+salary_medium"
   ]
  },
  {
   "cell_type": "markdown",
   "metadata": {},
   "source": [
    "import statsmodels.formula.api as sm\n",
    "\n",
    "Building logistic Regression\n",
    "logreg = sm.logit(formula='left ~ '+ 'satisfaction_level+last_evaluation+number_project+average_montly_hours+time_spend_company+Work_accident+promotion_last_5years+department_RandD+department_accounting+department_hr+department_management+department_marketing+department_product_mng+department_sales+department_support+department_technical+salary_low+salary_medium', data=data_f)\n",
    "result = logreg.fit()"
   ]
  },
  {
   "cell_type": "markdown",
   "metadata": {},
   "source": [
    "print(result.summary2())"
   ]
  },
  {
   "cell_type": "markdown",
   "metadata": {},
   "source": [
    "#### Building Initial Model using Sklearn"
   ]
  },
  {
   "cell_type": "code",
   "execution_count": 35,
   "metadata": {},
   "outputs": [
    {
     "name": "stderr",
     "output_type": "stream",
     "text": [
      "C:\\Users\\guru\\Anaconda3\\lib\\site-packages\\sklearn\\linear_model\\logistic.py:432: FutureWarning: Default solver will be changed to 'lbfgs' in 0.22. Specify a solver to silence this warning.\n",
      "  FutureWarning)\n"
     ]
    },
    {
     "data": {
      "text/plain": [
       "LogisticRegression(C=1.0, class_weight=None, dual=False, fit_intercept=True,\n",
       "                   intercept_scaling=1, l1_ratio=None, max_iter=100,\n",
       "                   multi_class='warn', n_jobs=None, penalty='l2',\n",
       "                   random_state=0, solver='warn', tol=0.0001, verbose=0,\n",
       "                   warm_start=False)"
      ]
     },
     "execution_count": 35,
     "metadata": {},
     "output_type": "execute_result"
    }
   ],
   "source": [
    "from sklearn.linear_model import LogisticRegression\n",
    "classifier = LogisticRegression(random_state = 0)\n",
    "classifier.fit(train_x, train_y)"
   ]
  },
  {
   "cell_type": "code",
   "execution_count": 36,
   "metadata": {},
   "outputs": [],
   "source": [
    "y_pred = classifier.predict(test_x)"
   ]
  },
  {
   "cell_type": "code",
   "execution_count": 37,
   "metadata": {},
   "outputs": [
    {
     "data": {
      "text/plain": [
       "array([1, 1, 0, ..., 1, 1, 0], dtype=int64)"
      ]
     },
     "execution_count": 37,
     "metadata": {},
     "output_type": "execute_result"
    }
   ],
   "source": [
    "y_pred"
   ]
  },
  {
   "cell_type": "code",
   "execution_count": 38,
   "metadata": {},
   "outputs": [
    {
     "data": {
      "text/html": [
       "<div>\n",
       "<style scoped>\n",
       "    .dataframe tbody tr th:only-of-type {\n",
       "        vertical-align: middle;\n",
       "    }\n",
       "\n",
       "    .dataframe tbody tr th {\n",
       "        vertical-align: top;\n",
       "    }\n",
       "\n",
       "    .dataframe thead th {\n",
       "        text-align: right;\n",
       "    }\n",
       "</style>\n",
       "<table border=\"1\" class=\"dataframe\">\n",
       "  <thead>\n",
       "    <tr style=\"text-align: right;\">\n",
       "      <th></th>\n",
       "      <th>left</th>\n",
       "      <th>0</th>\n",
       "    </tr>\n",
       "  </thead>\n",
       "  <tbody>\n",
       "    <tr>\n",
       "      <td>0</td>\n",
       "      <td>0</td>\n",
       "      <td>1</td>\n",
       "    </tr>\n",
       "    <tr>\n",
       "      <td>1</td>\n",
       "      <td>1</td>\n",
       "      <td>1</td>\n",
       "    </tr>\n",
       "    <tr>\n",
       "      <td>2</td>\n",
       "      <td>0</td>\n",
       "      <td>0</td>\n",
       "    </tr>\n",
       "    <tr>\n",
       "      <td>3</td>\n",
       "      <td>0</td>\n",
       "      <td>0</td>\n",
       "    </tr>\n",
       "    <tr>\n",
       "      <td>4</td>\n",
       "      <td>0</td>\n",
       "      <td>0</td>\n",
       "    </tr>\n",
       "  </tbody>\n",
       "</table>\n",
       "</div>"
      ],
      "text/plain": [
       "   left  0\n",
       "0     0  1\n",
       "1     1  1\n",
       "2     0  0\n",
       "3     0  0\n",
       "4     0  0"
      ]
     },
     "execution_count": 38,
     "metadata": {},
     "output_type": "execute_result"
    }
   ],
   "source": [
    "pd.concat([test_y.reset_index(drop=True),pd.Series(y_pred)],axis=1).head()"
   ]
  },
  {
   "cell_type": "code",
   "execution_count": 39,
   "metadata": {},
   "outputs": [],
   "source": [
    "# Making the Confusion Matrix\n",
    "from sklearn.metrics import confusion_matrix\n",
    "cm = confusion_matrix(test_y, y_pred)"
   ]
  },
  {
   "cell_type": "code",
   "execution_count": 40,
   "metadata": {},
   "outputs": [
    {
     "data": {
      "text/plain": [
       "array([[469, 140],\n",
       "       [ 51, 538]], dtype=int64)"
      ]
     },
     "execution_count": 40,
     "metadata": {},
     "output_type": "execute_result"
    }
   ],
   "source": [
    "cm"
   ]
  },
  {
   "cell_type": "markdown",
   "metadata": {},
   "source": [
    "## Model Evaluation"
   ]
  },
  {
   "cell_type": "code",
   "execution_count": 41,
   "metadata": {},
   "outputs": [],
   "source": [
    "from sklearn import metrics"
   ]
  },
  {
   "cell_type": "code",
   "execution_count": 42,
   "metadata": {},
   "outputs": [
    {
     "name": "stdout",
     "output_type": "stream",
     "text": [
      "Accuracy train  0.8417472252058719\n",
      "Accuracy test  0.840567612687813\n"
     ]
    }
   ],
   "source": [
    "print('Accuracy train ', metrics.accuracy_score(train['left'], classifier.predict(train_x)))\n",
    "print('Accuracy test ',metrics.accuracy_score(test['left'],y_pred))"
   ]
  },
  {
   "cell_type": "code",
   "execution_count": 43,
   "metadata": {},
   "outputs": [
    {
     "name": "stdout",
     "output_type": "stream",
     "text": [
      "Gini train:  0.6830834250341762\n",
      "Gini test:  0.6835275061959682\n"
     ]
    }
   ],
   "source": [
    "train_gini = 2*metrics.roc_auc_score(train['left'], classifier.predict(train_x)) - 1\n",
    "print(\"Gini train: \", train_gini)\n",
    "\n",
    "test_gini = 2*metrics.roc_auc_score(test['left'], y_pred) - 1\n",
    "print(\"Gini test: \", test_gini)"
   ]
  },
  {
   "cell_type": "markdown",
   "metadata": {},
   "source": [
    "AUC score"
   ]
  },
  {
   "cell_type": "code",
   "execution_count": 44,
   "metadata": {},
   "outputs": [
    {
     "name": "stdout",
     "output_type": "stream",
     "text": [
      "AUC Train :  0.8415417125170881\n",
      "AUC Test  :  0.8417637530979841\n"
     ]
    }
   ],
   "source": [
    "train_auc = metrics.roc_auc_score(train['left'], classifier.predict(train_x))\n",
    "test_auc = metrics.roc_auc_score(test['left'], y_pred)\n",
    "\n",
    "print(\"AUC Train : \", train_auc)\n",
    "print(\"AUC Test  : \", test_auc)"
   ]
  },
  {
   "cell_type": "markdown",
   "metadata": {},
   "source": [
    "# Finding the Optimum Cut-Off"
   ]
  },
  {
   "cell_type": "code",
   "execution_count": 45,
   "metadata": {},
   "outputs": [],
   "source": [
    "import statsmodels.api as sm"
   ]
  },
  {
   "cell_type": "code",
   "execution_count": 46,
   "metadata": {},
   "outputs": [
    {
     "name": "stdout",
     "output_type": "stream",
     "text": [
      "Warning: Maximum number of iterations has been exceeded.\n",
      "         Current function value: 0.458285\n",
      "         Iterations: 35\n"
     ]
    },
    {
     "name": "stderr",
     "output_type": "stream",
     "text": [
      "C:\\Users\\guru\\Anaconda3\\lib\\site-packages\\statsmodels\\base\\model.py:512: ConvergenceWarning: Maximum Likelihood optimization failed to converge. Check mle_retvals\n",
      "  \"Check mle_retvals\", ConvergenceWarning)\n"
     ]
    }
   ],
   "source": [
    "result = sm.Logit(train_y, train_x).fit()"
   ]
  },
  {
   "cell_type": "code",
   "execution_count": 47,
   "metadata": {},
   "outputs": [
    {
     "data": {
      "text/html": [
       "<table class=\"simpletable\">\n",
       "<caption>Logit Regression Results</caption>\n",
       "<tr>\n",
       "  <th>Dep. Variable:</th>         <td>left</td>       <th>  No. Observations:  </th>   <td>  2793</td>  \n",
       "</tr>\n",
       "<tr>\n",
       "  <th>Model:</th>                 <td>Logit</td>      <th>  Df Residuals:      </th>   <td>  2775</td>  \n",
       "</tr>\n",
       "<tr>\n",
       "  <th>Method:</th>                 <td>MLE</td>       <th>  Df Model:          </th>   <td>    17</td>  \n",
       "</tr>\n",
       "<tr>\n",
       "  <th>Date:</th>            <td>Wed, 27 Nov 2019</td> <th>  Pseudo R-squ.:     </th>   <td>0.3388</td>  \n",
       "</tr>\n",
       "<tr>\n",
       "  <th>Time:</th>                <td>18:41:28</td>     <th>  Log-Likelihood:    </th>  <td> -1280.0</td> \n",
       "</tr>\n",
       "<tr>\n",
       "  <th>converged:</th>             <td>False</td>      <th>  LL-Null:           </th>  <td> -1935.9</td> \n",
       "</tr>\n",
       "<tr>\n",
       "  <th>Covariance Type:</th>     <td>nonrobust</td>    <th>  LLR p-value:       </th> <td>1.287e-268</td>\n",
       "</tr>\n",
       "</table>\n",
       "<table class=\"simpletable\">\n",
       "<tr>\n",
       "             <td></td>               <th>coef</th>     <th>std err</th>      <th>z</th>      <th>P>|z|</th>  <th>[0.025</th>    <th>0.975]</th>  \n",
       "</tr>\n",
       "<tr>\n",
       "  <th>Work_accident</th>          <td>   -1.6440</td> <td>    0.183</td> <td>   -8.980</td> <td> 0.000</td> <td>   -2.003</td> <td>   -1.285</td>\n",
       "</tr>\n",
       "<tr>\n",
       "  <th>average_montly_hours</th>   <td>    0.0022</td> <td>    0.001</td> <td>    1.729</td> <td> 0.084</td> <td>   -0.000</td> <td>    0.005</td>\n",
       "</tr>\n",
       "<tr>\n",
       "  <th>department_RandD</th>       <td>   -0.9992</td> <td>    0.261</td> <td>   -3.824</td> <td> 0.000</td> <td>   -1.511</td> <td>   -0.487</td>\n",
       "</tr>\n",
       "<tr>\n",
       "  <th>department_accounting</th>  <td>   -0.5268</td> <td>    0.268</td> <td>   -1.963</td> <td> 0.050</td> <td>   -1.053</td> <td>   -0.001</td>\n",
       "</tr>\n",
       "<tr>\n",
       "  <th>department_hr</th>          <td>   -0.5662</td> <td>    0.259</td> <td>   -2.189</td> <td> 0.029</td> <td>   -1.073</td> <td>   -0.059</td>\n",
       "</tr>\n",
       "<tr>\n",
       "  <th>department_management</th>  <td>   -0.4402</td> <td>    0.340</td> <td>   -1.294</td> <td> 0.196</td> <td>   -1.107</td> <td>    0.227</td>\n",
       "</tr>\n",
       "<tr>\n",
       "  <th>department_marketing</th>   <td>   -0.5417</td> <td>    0.258</td> <td>   -2.100</td> <td> 0.036</td> <td>   -1.047</td> <td>   -0.036</td>\n",
       "</tr>\n",
       "<tr>\n",
       "  <th>department_product_mng</th> <td>   -0.3293</td> <td>    0.261</td> <td>   -1.261</td> <td> 0.207</td> <td>   -0.841</td> <td>    0.183</td>\n",
       "</tr>\n",
       "<tr>\n",
       "  <th>department_sales</th>       <td>   -0.4459</td> <td>    0.183</td> <td>   -2.431</td> <td> 0.015</td> <td>   -0.805</td> <td>   -0.086</td>\n",
       "</tr>\n",
       "<tr>\n",
       "  <th>department_support</th>     <td>   -0.3288</td> <td>    0.203</td> <td>   -1.619</td> <td> 0.105</td> <td>   -0.727</td> <td>    0.069</td>\n",
       "</tr>\n",
       "<tr>\n",
       "  <th>department_technical</th>   <td>   -0.5967</td> <td>    0.196</td> <td>   -3.050</td> <td> 0.002</td> <td>   -0.980</td> <td>   -0.213</td>\n",
       "</tr>\n",
       "<tr>\n",
       "  <th>last_evaluation</th>        <td>    0.6241</td> <td>    0.377</td> <td>    1.656</td> <td> 0.098</td> <td>   -0.114</td> <td>    1.363</td>\n",
       "</tr>\n",
       "<tr>\n",
       "  <th>number_project</th>         <td>   -0.5708</td> <td>    0.053</td> <td>  -10.824</td> <td> 0.000</td> <td>   -0.674</td> <td>   -0.467</td>\n",
       "</tr>\n",
       "<tr>\n",
       "  <th>promotion_last_5years</th>  <td>   19.6426</td> <td> 6073.640</td> <td>    0.003</td> <td> 0.997</td> <td>-1.19e+04</td> <td> 1.19e+04</td>\n",
       "</tr>\n",
       "<tr>\n",
       "  <th>salary_low</th>             <td>    0.6091</td> <td>    0.202</td> <td>    3.017</td> <td> 0.003</td> <td>    0.213</td> <td>    1.005</td>\n",
       "</tr>\n",
       "<tr>\n",
       "  <th>salary_medium</th>          <td>    0.4165</td> <td>    0.206</td> <td>    2.022</td> <td> 0.043</td> <td>    0.013</td> <td>    0.820</td>\n",
       "</tr>\n",
       "<tr>\n",
       "  <th>satisfaction_level</th>     <td>   -5.1666</td> <td>    0.236</td> <td>  -21.917</td> <td> 0.000</td> <td>   -5.629</td> <td>   -4.705</td>\n",
       "</tr>\n",
       "<tr>\n",
       "  <th>time_spend_company</th>     <td>    1.2110</td> <td>    0.061</td> <td>   19.768</td> <td> 0.000</td> <td>    1.091</td> <td>    1.331</td>\n",
       "</tr>\n",
       "</table>"
      ],
      "text/plain": [
       "<class 'statsmodels.iolib.summary.Summary'>\n",
       "\"\"\"\n",
       "                           Logit Regression Results                           \n",
       "==============================================================================\n",
       "Dep. Variable:                   left   No. Observations:                 2793\n",
       "Model:                          Logit   Df Residuals:                     2775\n",
       "Method:                           MLE   Df Model:                           17\n",
       "Date:                Wed, 27 Nov 2019   Pseudo R-squ.:                  0.3388\n",
       "Time:                        18:41:28   Log-Likelihood:                -1280.0\n",
       "converged:                      False   LL-Null:                       -1935.9\n",
       "Covariance Type:            nonrobust   LLR p-value:                1.287e-268\n",
       "==========================================================================================\n",
       "                             coef    std err          z      P>|z|      [0.025      0.975]\n",
       "------------------------------------------------------------------------------------------\n",
       "Work_accident             -1.6440      0.183     -8.980      0.000      -2.003      -1.285\n",
       "average_montly_hours       0.0022      0.001      1.729      0.084      -0.000       0.005\n",
       "department_RandD          -0.9992      0.261     -3.824      0.000      -1.511      -0.487\n",
       "department_accounting     -0.5268      0.268     -1.963      0.050      -1.053      -0.001\n",
       "department_hr             -0.5662      0.259     -2.189      0.029      -1.073      -0.059\n",
       "department_management     -0.4402      0.340     -1.294      0.196      -1.107       0.227\n",
       "department_marketing      -0.5417      0.258     -2.100      0.036      -1.047      -0.036\n",
       "department_product_mng    -0.3293      0.261     -1.261      0.207      -0.841       0.183\n",
       "department_sales          -0.4459      0.183     -2.431      0.015      -0.805      -0.086\n",
       "department_support        -0.3288      0.203     -1.619      0.105      -0.727       0.069\n",
       "department_technical      -0.5967      0.196     -3.050      0.002      -0.980      -0.213\n",
       "last_evaluation            0.6241      0.377      1.656      0.098      -0.114       1.363\n",
       "number_project            -0.5708      0.053    -10.824      0.000      -0.674      -0.467\n",
       "promotion_last_5years     19.6426   6073.640      0.003      0.997   -1.19e+04    1.19e+04\n",
       "salary_low                 0.6091      0.202      3.017      0.003       0.213       1.005\n",
       "salary_medium              0.4165      0.206      2.022      0.043       0.013       0.820\n",
       "satisfaction_level        -5.1666      0.236    -21.917      0.000      -5.629      -4.705\n",
       "time_spend_company         1.2110      0.061     19.768      0.000       1.091       1.331\n",
       "==========================================================================================\n",
       "\"\"\""
      ]
     },
     "execution_count": 47,
     "metadata": {},
     "output_type": "execute_result"
    }
   ],
   "source": [
    "result.summary()"
   ]
  },
  {
   "cell_type": "code",
   "execution_count": 50,
   "metadata": {},
   "outputs": [],
   "source": [
    "def Find_Optimal_Cutoff(target, predicted):\n",
    "    \"\"\" Find the optimal probability cutoff point for a classification model related to event rate\n",
    "    Parameters\n",
    "    ----------\n",
    "    target : Matrix with dependent or target data, where rows are observations\n",
    "\n",
    "    predicted : Matrix with predicted data, where rows are observations\n",
    "\n",
    "    Returns\n",
    "    -------     \n",
    "    list type, with optimal cutoff value\n",
    "\n",
    "    \"\"\"\n",
    "    ####################################\n",
    "    # The optimal cut off would be where tpr is high and fpr is low\n",
    "    # tpr - (1-fpr) is zero or near to zero is the optimal cut off point\n",
    "    ####################################\n",
    "    fpr, tpr, threshold = metrics.roc_curve(target, predicted)\n",
    "    i = np.arange(len(tpr)) \n",
    "    roc = pd.DataFrame({'tf' : pd.Series(tpr-(1-fpr), index=i), 'threshold' : pd.Series(threshold, index=i)})\n",
    "    roc_t = roc.ix[(roc.tf-0).abs().argsort()[:1]]\n",
    "    \n",
    "    return list(roc_t['threshold']) "
   ]
  },
  {
   "cell_type": "code",
   "execution_count": 51,
   "metadata": {},
   "outputs": [
    {
     "name": "stdout",
     "output_type": "stream",
     "text": [
      "[0.5726798670662026]\n"
     ]
    },
    {
     "name": "stderr",
     "output_type": "stream",
     "text": [
      "C:\\Users\\guru\\Anaconda3\\lib\\site-packages\\ipykernel_launcher.py:2: SettingWithCopyWarning: \n",
      "A value is trying to be set on a copy of a slice from a DataFrame.\n",
      "Try using .loc[row_indexer,col_indexer] = value instead\n",
      "\n",
      "See the caveats in the documentation: http://pandas.pydata.org/pandas-docs/stable/user_guide/indexing.html#returning-a-view-versus-a-copy\n",
      "  \n",
      "C:\\Users\\guru\\Anaconda3\\lib\\site-packages\\ipykernel_launcher.py:21: FutureWarning: \n",
      ".ix is deprecated. Please use\n",
      ".loc for label based indexing or\n",
      ".iloc for positional indexing\n",
      "\n",
      "See the documentation here:\n",
      "http://pandas.pydata.org/pandas-docs/stable/user_guide/indexing.html#ix-indexer-is-deprecated\n"
     ]
    }
   ],
   "source": [
    "# Add prediction probability to dataframe\n",
    "train['pred_probs'] = result.predict(train_x)\n",
    "\n",
    "# Find optimal probability threshold\n",
    "threshold = Find_Optimal_Cutoff(train_y, train['pred_probs'])\n",
    "print (threshold)"
   ]
  },
  {
   "cell_type": "code",
   "execution_count": 57,
   "metadata": {
    "scrolled": true
   },
   "outputs": [
    {
     "data": {
      "text/html": [
       "<div>\n",
       "<style scoped>\n",
       "    .dataframe tbody tr th:only-of-type {\n",
       "        vertical-align: middle;\n",
       "    }\n",
       "\n",
       "    .dataframe tbody tr th {\n",
       "        vertical-align: top;\n",
       "    }\n",
       "\n",
       "    .dataframe thead th {\n",
       "        text-align: right;\n",
       "    }\n",
       "</style>\n",
       "<table border=\"1\" class=\"dataframe\">\n",
       "  <thead>\n",
       "    <tr style=\"text-align: right;\">\n",
       "      <th></th>\n",
       "      <th>satisfaction_level</th>\n",
       "      <th>last_evaluation</th>\n",
       "      <th>number_project</th>\n",
       "      <th>average_montly_hours</th>\n",
       "      <th>time_spend_company</th>\n",
       "      <th>Work_accident</th>\n",
       "      <th>promotion_last_5years</th>\n",
       "      <th>department_RandD</th>\n",
       "      <th>department_accounting</th>\n",
       "      <th>department_hr</th>\n",
       "      <th>department_management</th>\n",
       "      <th>department_marketing</th>\n",
       "      <th>department_product_mng</th>\n",
       "      <th>department_sales</th>\n",
       "      <th>department_support</th>\n",
       "      <th>department_technical</th>\n",
       "      <th>salary_low</th>\n",
       "      <th>salary_medium</th>\n",
       "      <th>left</th>\n",
       "      <th>pred_probs</th>\n",
       "    </tr>\n",
       "  </thead>\n",
       "  <tbody>\n",
       "    <tr>\n",
       "      <td>2208</td>\n",
       "      <td>0.60</td>\n",
       "      <td>0.89</td>\n",
       "      <td>3</td>\n",
       "      <td>167</td>\n",
       "      <td>4</td>\n",
       "      <td>0</td>\n",
       "      <td>0</td>\n",
       "      <td>1</td>\n",
       "      <td>0</td>\n",
       "      <td>0</td>\n",
       "      <td>0</td>\n",
       "      <td>0</td>\n",
       "      <td>0</td>\n",
       "      <td>0</td>\n",
       "      <td>0</td>\n",
       "      <td>0</td>\n",
       "      <td>0</td>\n",
       "      <td>1</td>\n",
       "      <td>0</td>\n",
       "      <td>0.592059</td>\n",
       "    </tr>\n",
       "    <tr>\n",
       "      <td>448</td>\n",
       "      <td>0.36</td>\n",
       "      <td>0.48</td>\n",
       "      <td>2</td>\n",
       "      <td>159</td>\n",
       "      <td>3</td>\n",
       "      <td>0</td>\n",
       "      <td>0</td>\n",
       "      <td>0</td>\n",
       "      <td>0</td>\n",
       "      <td>0</td>\n",
       "      <td>0</td>\n",
       "      <td>0</td>\n",
       "      <td>1</td>\n",
       "      <td>0</td>\n",
       "      <td>0</td>\n",
       "      <td>0</td>\n",
       "      <td>1</td>\n",
       "      <td>0</td>\n",
       "      <td>1</td>\n",
       "      <td>0.826543</td>\n",
       "    </tr>\n",
       "    <tr>\n",
       "      <td>2565</td>\n",
       "      <td>0.48</td>\n",
       "      <td>0.67</td>\n",
       "      <td>5</td>\n",
       "      <td>273</td>\n",
       "      <td>3</td>\n",
       "      <td>0</td>\n",
       "      <td>0</td>\n",
       "      <td>0</td>\n",
       "      <td>0</td>\n",
       "      <td>0</td>\n",
       "      <td>0</td>\n",
       "      <td>0</td>\n",
       "      <td>0</td>\n",
       "      <td>0</td>\n",
       "      <td>1</td>\n",
       "      <td>0</td>\n",
       "      <td>0</td>\n",
       "      <td>1</td>\n",
       "      <td>0</td>\n",
       "      <td>0.355882</td>\n",
       "    </tr>\n",
       "    <tr>\n",
       "      <td>2313</td>\n",
       "      <td>0.98</td>\n",
       "      <td>0.77</td>\n",
       "      <td>3</td>\n",
       "      <td>134</td>\n",
       "      <td>2</td>\n",
       "      <td>1</td>\n",
       "      <td>0</td>\n",
       "      <td>0</td>\n",
       "      <td>0</td>\n",
       "      <td>0</td>\n",
       "      <td>0</td>\n",
       "      <td>0</td>\n",
       "      <td>0</td>\n",
       "      <td>1</td>\n",
       "      <td>0</td>\n",
       "      <td>0</td>\n",
       "      <td>1</td>\n",
       "      <td>0</td>\n",
       "      <td>0</td>\n",
       "      <td>0.006316</td>\n",
       "    </tr>\n",
       "    <tr>\n",
       "      <td>2601</td>\n",
       "      <td>0.76</td>\n",
       "      <td>0.80</td>\n",
       "      <td>5</td>\n",
       "      <td>229</td>\n",
       "      <td>2</td>\n",
       "      <td>0</td>\n",
       "      <td>0</td>\n",
       "      <td>0</td>\n",
       "      <td>0</td>\n",
       "      <td>0</td>\n",
       "      <td>0</td>\n",
       "      <td>1</td>\n",
       "      <td>0</td>\n",
       "      <td>0</td>\n",
       "      <td>0</td>\n",
       "      <td>0</td>\n",
       "      <td>0</td>\n",
       "      <td>1</td>\n",
       "      <td>0</td>\n",
       "      <td>0.029895</td>\n",
       "    </tr>\n",
       "  </tbody>\n",
       "</table>\n",
       "</div>"
      ],
      "text/plain": [
       "      satisfaction_level  last_evaluation  number_project  \\\n",
       "2208                0.60             0.89               3   \n",
       "448                 0.36             0.48               2   \n",
       "2565                0.48             0.67               5   \n",
       "2313                0.98             0.77               3   \n",
       "2601                0.76             0.80               5   \n",
       "\n",
       "      average_montly_hours  time_spend_company  Work_accident  \\\n",
       "2208                   167                   4              0   \n",
       "448                    159                   3              0   \n",
       "2565                   273                   3              0   \n",
       "2313                   134                   2              1   \n",
       "2601                   229                   2              0   \n",
       "\n",
       "      promotion_last_5years  department_RandD  department_accounting  \\\n",
       "2208                      0                 1                      0   \n",
       "448                       0                 0                      0   \n",
       "2565                      0                 0                      0   \n",
       "2313                      0                 0                      0   \n",
       "2601                      0                 0                      0   \n",
       "\n",
       "      department_hr  department_management  department_marketing  \\\n",
       "2208              0                      0                     0   \n",
       "448               0                      0                     0   \n",
       "2565              0                      0                     0   \n",
       "2313              0                      0                     0   \n",
       "2601              0                      0                     1   \n",
       "\n",
       "      department_product_mng  department_sales  department_support  \\\n",
       "2208                       0                 0                   0   \n",
       "448                        1                 0                   0   \n",
       "2565                       0                 0                   1   \n",
       "2313                       0                 1                   0   \n",
       "2601                       0                 0                   0   \n",
       "\n",
       "      department_technical  salary_low  salary_medium  left  pred_probs  \n",
       "2208                     0           0              1     0    0.592059  \n",
       "448                      0           1              0     1    0.826543  \n",
       "2565                     0           0              1     0    0.355882  \n",
       "2313                     0           1              0     0    0.006316  \n",
       "2601                     0           0              1     0    0.029895  "
      ]
     },
     "execution_count": 57,
     "metadata": {},
     "output_type": "execute_result"
    }
   ],
   "source": [
    "train.head()"
   ]
  },
  {
   "cell_type": "code",
   "execution_count": 52,
   "metadata": {},
   "outputs": [
    {
     "name": "stderr",
     "output_type": "stream",
     "text": [
      "C:\\Users\\guru\\Anaconda3\\lib\\site-packages\\ipykernel_launcher.py:2: SettingWithCopyWarning: \n",
      "A value is trying to be set on a copy of a slice from a DataFrame.\n",
      "Try using .loc[row_indexer,col_indexer] = value instead\n",
      "\n",
      "See the caveats in the documentation: http://pandas.pydata.org/pandas-docs/stable/user_guide/indexing.html#returning-a-view-versus-a-copy\n",
      "  \n"
     ]
    }
   ],
   "source": [
    "# Find prediction to the dataframe applying threshold\n",
    "train['pred'] = train['pred_probs'].apply(lambda x: 1 if x > threshold[0] else 0)"
   ]
  },
  {
   "cell_type": "code",
   "execution_count": 59,
   "metadata": {},
   "outputs": [
    {
     "data": {
      "text/html": [
       "<div>\n",
       "<style scoped>\n",
       "    .dataframe tbody tr th:only-of-type {\n",
       "        vertical-align: middle;\n",
       "    }\n",
       "\n",
       "    .dataframe tbody tr th {\n",
       "        vertical-align: top;\n",
       "    }\n",
       "\n",
       "    .dataframe thead th {\n",
       "        text-align: right;\n",
       "    }\n",
       "</style>\n",
       "<table border=\"1\" class=\"dataframe\">\n",
       "  <thead>\n",
       "    <tr style=\"text-align: right;\">\n",
       "      <th></th>\n",
       "      <th>satisfaction_level</th>\n",
       "      <th>last_evaluation</th>\n",
       "      <th>number_project</th>\n",
       "      <th>average_montly_hours</th>\n",
       "      <th>time_spend_company</th>\n",
       "      <th>Work_accident</th>\n",
       "      <th>promotion_last_5years</th>\n",
       "      <th>department_RandD</th>\n",
       "      <th>department_accounting</th>\n",
       "      <th>department_hr</th>\n",
       "      <th>...</th>\n",
       "      <th>department_marketing</th>\n",
       "      <th>department_product_mng</th>\n",
       "      <th>department_sales</th>\n",
       "      <th>department_support</th>\n",
       "      <th>department_technical</th>\n",
       "      <th>salary_low</th>\n",
       "      <th>salary_medium</th>\n",
       "      <th>left</th>\n",
       "      <th>pred_probs</th>\n",
       "      <th>pred</th>\n",
       "    </tr>\n",
       "  </thead>\n",
       "  <tbody>\n",
       "    <tr>\n",
       "      <td>2208</td>\n",
       "      <td>0.60</td>\n",
       "      <td>0.89</td>\n",
       "      <td>3</td>\n",
       "      <td>167</td>\n",
       "      <td>4</td>\n",
       "      <td>0</td>\n",
       "      <td>0</td>\n",
       "      <td>1</td>\n",
       "      <td>0</td>\n",
       "      <td>0</td>\n",
       "      <td>...</td>\n",
       "      <td>0</td>\n",
       "      <td>0</td>\n",
       "      <td>0</td>\n",
       "      <td>0</td>\n",
       "      <td>0</td>\n",
       "      <td>0</td>\n",
       "      <td>1</td>\n",
       "      <td>0</td>\n",
       "      <td>0.592059</td>\n",
       "      <td>1</td>\n",
       "    </tr>\n",
       "    <tr>\n",
       "      <td>448</td>\n",
       "      <td>0.36</td>\n",
       "      <td>0.48</td>\n",
       "      <td>2</td>\n",
       "      <td>159</td>\n",
       "      <td>3</td>\n",
       "      <td>0</td>\n",
       "      <td>0</td>\n",
       "      <td>0</td>\n",
       "      <td>0</td>\n",
       "      <td>0</td>\n",
       "      <td>...</td>\n",
       "      <td>0</td>\n",
       "      <td>1</td>\n",
       "      <td>0</td>\n",
       "      <td>0</td>\n",
       "      <td>0</td>\n",
       "      <td>1</td>\n",
       "      <td>0</td>\n",
       "      <td>1</td>\n",
       "      <td>0.826543</td>\n",
       "      <td>1</td>\n",
       "    </tr>\n",
       "    <tr>\n",
       "      <td>2565</td>\n",
       "      <td>0.48</td>\n",
       "      <td>0.67</td>\n",
       "      <td>5</td>\n",
       "      <td>273</td>\n",
       "      <td>3</td>\n",
       "      <td>0</td>\n",
       "      <td>0</td>\n",
       "      <td>0</td>\n",
       "      <td>0</td>\n",
       "      <td>0</td>\n",
       "      <td>...</td>\n",
       "      <td>0</td>\n",
       "      <td>0</td>\n",
       "      <td>0</td>\n",
       "      <td>1</td>\n",
       "      <td>0</td>\n",
       "      <td>0</td>\n",
       "      <td>1</td>\n",
       "      <td>0</td>\n",
       "      <td>0.355882</td>\n",
       "      <td>0</td>\n",
       "    </tr>\n",
       "    <tr>\n",
       "      <td>2313</td>\n",
       "      <td>0.98</td>\n",
       "      <td>0.77</td>\n",
       "      <td>3</td>\n",
       "      <td>134</td>\n",
       "      <td>2</td>\n",
       "      <td>1</td>\n",
       "      <td>0</td>\n",
       "      <td>0</td>\n",
       "      <td>0</td>\n",
       "      <td>0</td>\n",
       "      <td>...</td>\n",
       "      <td>0</td>\n",
       "      <td>0</td>\n",
       "      <td>1</td>\n",
       "      <td>0</td>\n",
       "      <td>0</td>\n",
       "      <td>1</td>\n",
       "      <td>0</td>\n",
       "      <td>0</td>\n",
       "      <td>0.006316</td>\n",
       "      <td>0</td>\n",
       "    </tr>\n",
       "    <tr>\n",
       "      <td>2601</td>\n",
       "      <td>0.76</td>\n",
       "      <td>0.80</td>\n",
       "      <td>5</td>\n",
       "      <td>229</td>\n",
       "      <td>2</td>\n",
       "      <td>0</td>\n",
       "      <td>0</td>\n",
       "      <td>0</td>\n",
       "      <td>0</td>\n",
       "      <td>0</td>\n",
       "      <td>...</td>\n",
       "      <td>1</td>\n",
       "      <td>0</td>\n",
       "      <td>0</td>\n",
       "      <td>0</td>\n",
       "      <td>0</td>\n",
       "      <td>0</td>\n",
       "      <td>1</td>\n",
       "      <td>0</td>\n",
       "      <td>0.029895</td>\n",
       "      <td>0</td>\n",
       "    </tr>\n",
       "  </tbody>\n",
       "</table>\n",
       "<p>5 rows × 21 columns</p>\n",
       "</div>"
      ],
      "text/plain": [
       "      satisfaction_level  last_evaluation  number_project  \\\n",
       "2208                0.60             0.89               3   \n",
       "448                 0.36             0.48               2   \n",
       "2565                0.48             0.67               5   \n",
       "2313                0.98             0.77               3   \n",
       "2601                0.76             0.80               5   \n",
       "\n",
       "      average_montly_hours  time_spend_company  Work_accident  \\\n",
       "2208                   167                   4              0   \n",
       "448                    159                   3              0   \n",
       "2565                   273                   3              0   \n",
       "2313                   134                   2              1   \n",
       "2601                   229                   2              0   \n",
       "\n",
       "      promotion_last_5years  department_RandD  department_accounting  \\\n",
       "2208                      0                 1                      0   \n",
       "448                       0                 0                      0   \n",
       "2565                      0                 0                      0   \n",
       "2313                      0                 0                      0   \n",
       "2601                      0                 0                      0   \n",
       "\n",
       "      department_hr  ...  department_marketing  department_product_mng  \\\n",
       "2208              0  ...                     0                       0   \n",
       "448               0  ...                     0                       1   \n",
       "2565              0  ...                     0                       0   \n",
       "2313              0  ...                     0                       0   \n",
       "2601              0  ...                     1                       0   \n",
       "\n",
       "      department_sales  department_support  department_technical  salary_low  \\\n",
       "2208                 0                   0                     0           0   \n",
       "448                  0                   0                     0           1   \n",
       "2565                 0                   1                     0           0   \n",
       "2313                 1                   0                     0           1   \n",
       "2601                 0                   0                     0           0   \n",
       "\n",
       "      salary_medium  left  pred_probs  pred  \n",
       "2208              1     0    0.592059     1  \n",
       "448               0     1    0.826543     1  \n",
       "2565              1     0    0.355882     0  \n",
       "2313              0     0    0.006316     0  \n",
       "2601              1     0    0.029895     0  \n",
       "\n",
       "[5 rows x 21 columns]"
      ]
     },
     "execution_count": 59,
     "metadata": {},
     "output_type": "execute_result"
    }
   ],
   "source": [
    "train.head()"
   ]
  },
  {
   "cell_type": "code",
   "execution_count": 60,
   "metadata": {},
   "outputs": [
    {
     "data": {
      "text/plain": [
       "array([[1158,  233],\n",
       "       [ 236, 1166]], dtype=int64)"
      ]
     },
     "execution_count": 60,
     "metadata": {},
     "output_type": "execute_result"
    }
   ],
   "source": [
    "# Print confusion Matrix\n",
    "from sklearn.metrics import confusion_matrix\n",
    "confusion_matrix(train['left'], train['pred'])"
   ]
  },
  {
   "cell_type": "code",
   "execution_count": 61,
   "metadata": {},
   "outputs": [
    {
     "data": {
      "text/plain": [
       "array([[1098,  293],\n",
       "       [ 149, 1253]], dtype=int64)"
      ]
     },
     "execution_count": 61,
     "metadata": {},
     "output_type": "execute_result"
    }
   ],
   "source": [
    "confusion_matrix(train_y,classifier.predict(train_x)) #For Sklearn "
   ]
  },
  {
   "cell_type": "markdown",
   "metadata": {},
   "source": [
    "## Predicting based on the Test for the Optimum threshold"
   ]
  },
  {
   "cell_type": "code",
   "execution_count": 62,
   "metadata": {},
   "outputs": [
    {
     "name": "stdout",
     "output_type": "stream",
     "text": [
      "Warning: Maximum number of iterations has been exceeded.\n",
      "         Current function value: 0.477494\n",
      "         Iterations: 35\n"
     ]
    },
    {
     "name": "stderr",
     "output_type": "stream",
     "text": [
      "C:\\Users\\guru\\Anaconda3\\lib\\site-packages\\statsmodels\\base\\model.py:512: ConvergenceWarning: Maximum Likelihood optimization failed to converge. Check mle_retvals\n",
      "  \"Check mle_retvals\", ConvergenceWarning)\n"
     ]
    }
   ],
   "source": [
    "result_test = sm.Logit(test_y, test_x).fit()"
   ]
  },
  {
   "cell_type": "code",
   "execution_count": 63,
   "metadata": {},
   "outputs": [
    {
     "data": {
      "text/html": [
       "<table class=\"simpletable\">\n",
       "<caption>Logit Regression Results</caption>\n",
       "<tr>\n",
       "  <th>Dep. Variable:</th>         <td>left</td>       <th>  No. Observations:  </th>  <td>  1198</td>  \n",
       "</tr>\n",
       "<tr>\n",
       "  <th>Model:</th>                 <td>Logit</td>      <th>  Df Residuals:      </th>  <td>  1180</td>  \n",
       "</tr>\n",
       "<tr>\n",
       "  <th>Method:</th>                 <td>MLE</td>       <th>  Df Model:          </th>  <td>    17</td>  \n",
       "</tr>\n",
       "<tr>\n",
       "  <th>Date:</th>            <td>Wed, 27 Nov 2019</td> <th>  Pseudo R-squ.:     </th>  <td>0.3110</td>  \n",
       "</tr>\n",
       "<tr>\n",
       "  <th>Time:</th>                <td>12:54:49</td>     <th>  Log-Likelihood:    </th> <td> -572.04</td> \n",
       "</tr>\n",
       "<tr>\n",
       "  <th>converged:</th>             <td>False</td>      <th>  LL-Null:           </th> <td> -830.22</td> \n",
       "</tr>\n",
       "<tr>\n",
       "  <th>Covariance Type:</th>     <td>nonrobust</td>    <th>  LLR p-value:       </th> <td>6.708e-99</td>\n",
       "</tr>\n",
       "</table>\n",
       "<table class=\"simpletable\">\n",
       "<tr>\n",
       "             <td></td>               <th>coef</th>     <th>std err</th>      <th>z</th>      <th>P>|z|</th>  <th>[0.025</th>    <th>0.975]</th>  \n",
       "</tr>\n",
       "<tr>\n",
       "  <th>Work_accident</th>          <td>   -1.3717</td> <td>    0.259</td> <td>   -5.297</td> <td> 0.000</td> <td>   -1.879</td> <td>   -0.864</td>\n",
       "</tr>\n",
       "<tr>\n",
       "  <th>average_montly_hours</th>   <td>    0.0052</td> <td>    0.002</td> <td>    2.681</td> <td> 0.007</td> <td>    0.001</td> <td>    0.009</td>\n",
       "</tr>\n",
       "<tr>\n",
       "  <th>department_RandD</th>       <td>   -0.5866</td> <td>    0.408</td> <td>   -1.439</td> <td> 0.150</td> <td>   -1.385</td> <td>    0.212</td>\n",
       "</tr>\n",
       "<tr>\n",
       "  <th>department_accounting</th>  <td>   -0.0372</td> <td>    0.368</td> <td>   -0.101</td> <td> 0.919</td> <td>   -0.758</td> <td>    0.684</td>\n",
       "</tr>\n",
       "<tr>\n",
       "  <th>department_hr</th>          <td>    0.4125</td> <td>    0.407</td> <td>    1.014</td> <td> 0.311</td> <td>   -0.385</td> <td>    1.210</td>\n",
       "</tr>\n",
       "<tr>\n",
       "  <th>department_management</th>  <td>   -0.1631</td> <td>    0.543</td> <td>   -0.301</td> <td> 0.764</td> <td>   -1.227</td> <td>    0.901</td>\n",
       "</tr>\n",
       "<tr>\n",
       "  <th>department_marketing</th>   <td>   -0.0832</td> <td>    0.386</td> <td>   -0.216</td> <td> 0.829</td> <td>   -0.839</td> <td>    0.673</td>\n",
       "</tr>\n",
       "<tr>\n",
       "  <th>department_product_mng</th> <td>    0.2267</td> <td>    0.406</td> <td>    0.558</td> <td> 0.577</td> <td>   -0.569</td> <td>    1.023</td>\n",
       "</tr>\n",
       "<tr>\n",
       "  <th>department_sales</th>       <td>    0.2202</td> <td>    0.271</td> <td>    0.813</td> <td> 0.416</td> <td>   -0.311</td> <td>    0.751</td>\n",
       "</tr>\n",
       "<tr>\n",
       "  <th>department_support</th>     <td>   -0.0331</td> <td>    0.302</td> <td>   -0.110</td> <td> 0.913</td> <td>   -0.625</td> <td>    0.559</td>\n",
       "</tr>\n",
       "<tr>\n",
       "  <th>department_technical</th>   <td>    0.2517</td> <td>    0.286</td> <td>    0.881</td> <td> 0.378</td> <td>   -0.308</td> <td>    0.812</td>\n",
       "</tr>\n",
       "<tr>\n",
       "  <th>last_evaluation</th>        <td>   -0.2969</td> <td>    0.540</td> <td>   -0.549</td> <td> 0.583</td> <td>   -1.356</td> <td>    0.762</td>\n",
       "</tr>\n",
       "<tr>\n",
       "  <th>number_project</th>         <td>   -0.5532</td> <td>    0.081</td> <td>   -6.848</td> <td> 0.000</td> <td>   -0.712</td> <td>   -0.395</td>\n",
       "</tr>\n",
       "<tr>\n",
       "  <th>promotion_last_5years</th>  <td>   29.2809</td> <td> 1.06e+06</td> <td> 2.77e-05</td> <td> 1.000</td> <td>-2.07e+06</td> <td> 2.07e+06</td>\n",
       "</tr>\n",
       "<tr>\n",
       "  <th>salary_low</th>             <td>    0.4539</td> <td>    0.303</td> <td>    1.496</td> <td> 0.135</td> <td>   -0.141</td> <td>    1.048</td>\n",
       "</tr>\n",
       "<tr>\n",
       "  <th>salary_medium</th>          <td>    0.0046</td> <td>    0.310</td> <td>    0.015</td> <td> 0.988</td> <td>   -0.603</td> <td>    0.612</td>\n",
       "</tr>\n",
       "<tr>\n",
       "  <th>satisfaction_level</th>     <td>   -4.8317</td> <td>    0.345</td> <td>  -13.990</td> <td> 0.000</td> <td>   -5.509</td> <td>   -4.155</td>\n",
       "</tr>\n",
       "<tr>\n",
       "  <th>time_spend_company</th>     <td>    1.0352</td> <td>    0.089</td> <td>   11.602</td> <td> 0.000</td> <td>    0.860</td> <td>    1.210</td>\n",
       "</tr>\n",
       "</table>"
      ],
      "text/plain": [
       "<class 'statsmodels.iolib.summary.Summary'>\n",
       "\"\"\"\n",
       "                           Logit Regression Results                           \n",
       "==============================================================================\n",
       "Dep. Variable:                   left   No. Observations:                 1198\n",
       "Model:                          Logit   Df Residuals:                     1180\n",
       "Method:                           MLE   Df Model:                           17\n",
       "Date:                Wed, 27 Nov 2019   Pseudo R-squ.:                  0.3110\n",
       "Time:                        12:54:49   Log-Likelihood:                -572.04\n",
       "converged:                      False   LL-Null:                       -830.22\n",
       "Covariance Type:            nonrobust   LLR p-value:                 6.708e-99\n",
       "==========================================================================================\n",
       "                             coef    std err          z      P>|z|      [0.025      0.975]\n",
       "------------------------------------------------------------------------------------------\n",
       "Work_accident             -1.3717      0.259     -5.297      0.000      -1.879      -0.864\n",
       "average_montly_hours       0.0052      0.002      2.681      0.007       0.001       0.009\n",
       "department_RandD          -0.5866      0.408     -1.439      0.150      -1.385       0.212\n",
       "department_accounting     -0.0372      0.368     -0.101      0.919      -0.758       0.684\n",
       "department_hr              0.4125      0.407      1.014      0.311      -0.385       1.210\n",
       "department_management     -0.1631      0.543     -0.301      0.764      -1.227       0.901\n",
       "department_marketing      -0.0832      0.386     -0.216      0.829      -0.839       0.673\n",
       "department_product_mng     0.2267      0.406      0.558      0.577      -0.569       1.023\n",
       "department_sales           0.2202      0.271      0.813      0.416      -0.311       0.751\n",
       "department_support        -0.0331      0.302     -0.110      0.913      -0.625       0.559\n",
       "department_technical       0.2517      0.286      0.881      0.378      -0.308       0.812\n",
       "last_evaluation           -0.2969      0.540     -0.549      0.583      -1.356       0.762\n",
       "number_project            -0.5532      0.081     -6.848      0.000      -0.712      -0.395\n",
       "promotion_last_5years     29.2809   1.06e+06   2.77e-05      1.000   -2.07e+06    2.07e+06\n",
       "salary_low                 0.4539      0.303      1.496      0.135      -0.141       1.048\n",
       "salary_medium              0.0046      0.310      0.015      0.988      -0.603       0.612\n",
       "satisfaction_level        -4.8317      0.345    -13.990      0.000      -5.509      -4.155\n",
       "time_spend_company         1.0352      0.089     11.602      0.000       0.860       1.210\n",
       "==========================================================================================\n",
       "\"\"\""
      ]
     },
     "execution_count": 63,
     "metadata": {},
     "output_type": "execute_result"
    }
   ],
   "source": [
    "result_test.summary()"
   ]
  },
  {
   "cell_type": "code",
   "execution_count": 64,
   "metadata": {},
   "outputs": [
    {
     "name": "stderr",
     "output_type": "stream",
     "text": [
      "C:\\Users\\guru\\Anaconda3\\lib\\site-packages\\ipykernel_launcher.py:1: SettingWithCopyWarning: \n",
      "A value is trying to be set on a copy of a slice from a DataFrame.\n",
      "Try using .loc[row_indexer,col_indexer] = value instead\n",
      "\n",
      "See the caveats in the documentation: http://pandas.pydata.org/pandas-docs/stable/user_guide/indexing.html#returning-a-view-versus-a-copy\n",
      "  \"\"\"Entry point for launching an IPython kernel.\n"
     ]
    }
   ],
   "source": [
    "test['pred_probs'] = result.predict(test_x)"
   ]
  },
  {
   "cell_type": "code",
   "execution_count": 104,
   "metadata": {},
   "outputs": [
    {
     "name": "stderr",
     "output_type": "stream",
     "text": [
      "C:\\Users\\guru\\Anaconda3\\lib\\site-packages\\ipykernel_launcher.py:2: SettingWithCopyWarning: \n",
      "A value is trying to be set on a copy of a slice from a DataFrame.\n",
      "Try using .loc[row_indexer,col_indexer] = value instead\n",
      "\n",
      "See the caveats in the documentation: http://pandas.pydata.org/pandas-docs/stable/user_guide/indexing.html#returning-a-view-versus-a-copy\n",
      "  \n"
     ]
    }
   ],
   "source": [
    "# Find prediction to the dataframe applying threshold\n",
    "test['pred'] = test['pred_probs'].apply(lambda x: 1 if x > threshold[0] else 0)"
   ]
  },
  {
   "cell_type": "code",
   "execution_count": 66,
   "metadata": {},
   "outputs": [
    {
     "data": {
      "text/html": [
       "<div>\n",
       "<style scoped>\n",
       "    .dataframe tbody tr th:only-of-type {\n",
       "        vertical-align: middle;\n",
       "    }\n",
       "\n",
       "    .dataframe tbody tr th {\n",
       "        vertical-align: top;\n",
       "    }\n",
       "\n",
       "    .dataframe thead th {\n",
       "        text-align: right;\n",
       "    }\n",
       "</style>\n",
       "<table border=\"1\" class=\"dataframe\">\n",
       "  <thead>\n",
       "    <tr style=\"text-align: right;\">\n",
       "      <th></th>\n",
       "      <th>satisfaction_level</th>\n",
       "      <th>last_evaluation</th>\n",
       "      <th>number_project</th>\n",
       "      <th>average_montly_hours</th>\n",
       "      <th>time_spend_company</th>\n",
       "      <th>Work_accident</th>\n",
       "      <th>promotion_last_5years</th>\n",
       "      <th>department_RandD</th>\n",
       "      <th>department_accounting</th>\n",
       "      <th>department_hr</th>\n",
       "      <th>...</th>\n",
       "      <th>department_marketing</th>\n",
       "      <th>department_product_mng</th>\n",
       "      <th>department_sales</th>\n",
       "      <th>department_support</th>\n",
       "      <th>department_technical</th>\n",
       "      <th>salary_low</th>\n",
       "      <th>salary_medium</th>\n",
       "      <th>left</th>\n",
       "      <th>pred_probs</th>\n",
       "      <th>pred</th>\n",
       "    </tr>\n",
       "  </thead>\n",
       "  <tbody>\n",
       "    <tr>\n",
       "      <td>3487</td>\n",
       "      <td>0.14</td>\n",
       "      <td>0.46</td>\n",
       "      <td>2</td>\n",
       "      <td>267</td>\n",
       "      <td>6</td>\n",
       "      <td>1</td>\n",
       "      <td>0</td>\n",
       "      <td>0</td>\n",
       "      <td>0</td>\n",
       "      <td>0</td>\n",
       "      <td>...</td>\n",
       "      <td>0</td>\n",
       "      <td>0</td>\n",
       "      <td>0</td>\n",
       "      <td>1</td>\n",
       "      <td>0</td>\n",
       "      <td>1</td>\n",
       "      <td>0</td>\n",
       "      <td>0</td>\n",
       "      <td>0.992703</td>\n",
       "      <td>1</td>\n",
       "    </tr>\n",
       "    <tr>\n",
       "      <td>96</td>\n",
       "      <td>0.10</td>\n",
       "      <td>0.77</td>\n",
       "      <td>6</td>\n",
       "      <td>265</td>\n",
       "      <td>4</td>\n",
       "      <td>0</td>\n",
       "      <td>0</td>\n",
       "      <td>0</td>\n",
       "      <td>0</td>\n",
       "      <td>0</td>\n",
       "      <td>...</td>\n",
       "      <td>0</td>\n",
       "      <td>0</td>\n",
       "      <td>1</td>\n",
       "      <td>0</td>\n",
       "      <td>0</td>\n",
       "      <td>1</td>\n",
       "      <td>0</td>\n",
       "      <td>1</td>\n",
       "      <td>0.893832</td>\n",
       "      <td>1</td>\n",
       "    </tr>\n",
       "    <tr>\n",
       "      <td>3718</td>\n",
       "      <td>0.82</td>\n",
       "      <td>0.58</td>\n",
       "      <td>4</td>\n",
       "      <td>136</td>\n",
       "      <td>3</td>\n",
       "      <td>0</td>\n",
       "      <td>0</td>\n",
       "      <td>0</td>\n",
       "      <td>0</td>\n",
       "      <td>0</td>\n",
       "      <td>...</td>\n",
       "      <td>0</td>\n",
       "      <td>0</td>\n",
       "      <td>0</td>\n",
       "      <td>1</td>\n",
       "      <td>0</td>\n",
       "      <td>0</td>\n",
       "      <td>1</td>\n",
       "      <td>0</td>\n",
       "      <td>0.105521</td>\n",
       "      <td>0</td>\n",
       "    </tr>\n",
       "    <tr>\n",
       "      <td>2864</td>\n",
       "      <td>0.64</td>\n",
       "      <td>0.66</td>\n",
       "      <td>3</td>\n",
       "      <td>218</td>\n",
       "      <td>3</td>\n",
       "      <td>0</td>\n",
       "      <td>0</td>\n",
       "      <td>0</td>\n",
       "      <td>0</td>\n",
       "      <td>0</td>\n",
       "      <td>...</td>\n",
       "      <td>0</td>\n",
       "      <td>0</td>\n",
       "      <td>0</td>\n",
       "      <td>0</td>\n",
       "      <td>1</td>\n",
       "      <td>1</td>\n",
       "      <td>0</td>\n",
       "      <td>0</td>\n",
       "      <td>0.381984</td>\n",
       "      <td>0</td>\n",
       "    </tr>\n",
       "    <tr>\n",
       "      <td>3795</td>\n",
       "      <td>0.17</td>\n",
       "      <td>0.88</td>\n",
       "      <td>6</td>\n",
       "      <td>226</td>\n",
       "      <td>3</td>\n",
       "      <td>1</td>\n",
       "      <td>0</td>\n",
       "      <td>0</td>\n",
       "      <td>0</td>\n",
       "      <td>0</td>\n",
       "      <td>...</td>\n",
       "      <td>0</td>\n",
       "      <td>0</td>\n",
       "      <td>0</td>\n",
       "      <td>0</td>\n",
       "      <td>1</td>\n",
       "      <td>0</td>\n",
       "      <td>0</td>\n",
       "      <td>0</td>\n",
       "      <td>0.134316</td>\n",
       "      <td>0</td>\n",
       "    </tr>\n",
       "  </tbody>\n",
       "</table>\n",
       "<p>5 rows × 21 columns</p>\n",
       "</div>"
      ],
      "text/plain": [
       "      satisfaction_level  last_evaluation  number_project  \\\n",
       "3487                0.14             0.46               2   \n",
       "96                  0.10             0.77               6   \n",
       "3718                0.82             0.58               4   \n",
       "2864                0.64             0.66               3   \n",
       "3795                0.17             0.88               6   \n",
       "\n",
       "      average_montly_hours  time_spend_company  Work_accident  \\\n",
       "3487                   267                   6              1   \n",
       "96                     265                   4              0   \n",
       "3718                   136                   3              0   \n",
       "2864                   218                   3              0   \n",
       "3795                   226                   3              1   \n",
       "\n",
       "      promotion_last_5years  department_RandD  department_accounting  \\\n",
       "3487                      0                 0                      0   \n",
       "96                        0                 0                      0   \n",
       "3718                      0                 0                      0   \n",
       "2864                      0                 0                      0   \n",
       "3795                      0                 0                      0   \n",
       "\n",
       "      department_hr  ...  department_marketing  department_product_mng  \\\n",
       "3487              0  ...                     0                       0   \n",
       "96                0  ...                     0                       0   \n",
       "3718              0  ...                     0                       0   \n",
       "2864              0  ...                     0                       0   \n",
       "3795              0  ...                     0                       0   \n",
       "\n",
       "      department_sales  department_support  department_technical  salary_low  \\\n",
       "3487                 0                   1                     0           1   \n",
       "96                   1                   0                     0           1   \n",
       "3718                 0                   1                     0           0   \n",
       "2864                 0                   0                     1           1   \n",
       "3795                 0                   0                     1           0   \n",
       "\n",
       "      salary_medium  left  pred_probs  pred  \n",
       "3487              0     0    0.992703     1  \n",
       "96                0     1    0.893832     1  \n",
       "3718              1     0    0.105521     0  \n",
       "2864              0     0    0.381984     0  \n",
       "3795              0     0    0.134316     0  \n",
       "\n",
       "[5 rows x 21 columns]"
      ]
     },
     "execution_count": 66,
     "metadata": {},
     "output_type": "execute_result"
    }
   ],
   "source": [
    "test.head()"
   ]
  },
  {
   "cell_type": "code",
   "execution_count": 67,
   "metadata": {},
   "outputs": [
    {
     "data": {
      "text/plain": [
       "array([[492, 117],\n",
       "       [ 85, 504]], dtype=int64)"
      ]
     },
     "execution_count": 67,
     "metadata": {},
     "output_type": "execute_result"
    }
   ],
   "source": [
    "confusion_matrix(test['left'], test['pred'])"
   ]
  },
  {
   "cell_type": "code",
   "execution_count": 68,
   "metadata": {},
   "outputs": [
    {
     "data": {
      "text/plain": [
       "array([[469, 140],\n",
       "       [ 51, 538]], dtype=int64)"
      ]
     },
     "execution_count": 68,
     "metadata": {},
     "output_type": "execute_result"
    }
   ],
   "source": [
    "confusion_matrix(test['left'],y_pred) #For Sklearn model"
   ]
  },
  {
   "cell_type": "code",
   "execution_count": 69,
   "metadata": {},
   "outputs": [
    {
     "data": {
      "text/plain": [
       "1007"
      ]
     },
     "execution_count": 69,
     "metadata": {},
     "output_type": "execute_result"
    }
   ],
   "source": [
    "469+538"
   ]
  },
  {
   "cell_type": "code",
   "execution_count": 70,
   "metadata": {},
   "outputs": [
    {
     "data": {
      "text/plain": [
       "996"
      ]
     },
     "execution_count": 70,
     "metadata": {},
     "output_type": "execute_result"
    }
   ],
   "source": [
    "492+504"
   ]
  },
  {
   "cell_type": "code",
   "execution_count": 71,
   "metadata": {},
   "outputs": [
    {
     "name": "stdout",
     "output_type": "stream",
     "text": [
      "AUC Train :  0.8710581884152351\n",
      "AUC Test  :  0.8543801104541108\n"
     ]
    }
   ],
   "source": [
    "# AUC scores for the stats model with Optimum threshold\n",
    "train_auc = metrics.roc_auc_score(train['left'], train['pred_probs'])\n",
    "test_auc = metrics.roc_auc_score(test['left'], test['pred_probs'])\n",
    "\n",
    "print(\"AUC Train : \", train_auc)\n",
    "print(\"AUC Test  : \", test_auc)"
   ]
  },
  {
   "cell_type": "markdown",
   "metadata": {},
   "source": [
    "AUC got from sklearn got from the Sklearn before optimal cut-off<br>\n",
    "AUC Train :  0.8415417125170881 <br>\n",
    "AUC Test  :  0.8417637530979841"
   ]
  },
  {
   "cell_type": "code",
   "execution_count": 72,
   "metadata": {},
   "outputs": [
    {
     "name": "stdout",
     "output_type": "stream",
     "text": [
      "Gini train:  0.7421163768304702\n",
      "Gini test:  0.7087602209082215\n"
     ]
    }
   ],
   "source": [
    "train_gini = 2*metrics.roc_auc_score(train['left'], train['pred_probs']) - 1\n",
    "print(\"Gini train: \", train_gini)\n",
    "\n",
    "test_gini = 2*metrics.roc_auc_score(test['left'], test['pred_probs']) - 1\n",
    "print(\"Gini test: \", test_gini)"
   ]
  },
  {
   "cell_type": "markdown",
   "metadata": {},
   "source": [
    "Somer's D / Gini score got from the Sklearn before optimal cut-off <br>\n",
    "Gini train:  0.6830834250341762 <br>\n",
    "Gini test:  0.6835275061959682"
   ]
  },
  {
   "cell_type": "code",
   "execution_count": 73,
   "metadata": {
    "scrolled": true
   },
   "outputs": [
    {
     "name": "stdout",
     "output_type": "stream",
     "text": [
      "              precision    recall  f1-score   support\n",
      "\n",
      "           0       0.85      0.81      0.83       609\n",
      "           1       0.81      0.86      0.83       589\n",
      "\n",
      "    accuracy                           0.83      1198\n",
      "   macro avg       0.83      0.83      0.83      1198\n",
      "weighted avg       0.83      0.83      0.83      1198\n",
      "\n"
     ]
    }
   ],
   "source": [
    "print(metrics.classification_report(test['left'], test['pred']))"
   ]
  },
  {
   "cell_type": "code",
   "execution_count": 74,
   "metadata": {},
   "outputs": [
    {
     "name": "stdout",
     "output_type": "stream",
     "text": [
      "              precision    recall  f1-score   support\n",
      "\n",
      "           0       0.90      0.77      0.83       609\n",
      "           1       0.79      0.91      0.85       589\n",
      "\n",
      "    accuracy                           0.84      1198\n",
      "   macro avg       0.85      0.84      0.84      1198\n",
      "weighted avg       0.85      0.84      0.84      1198\n",
      "\n"
     ]
    }
   ],
   "source": [
    "print(metrics.classification_report(test['left'], y_pred))"
   ]
  },
  {
   "cell_type": "markdown",
   "metadata": {},
   "source": [
    "### Conclusion From ROC Analysis: <br> \n",
    "**Comparing the AUC and Somer's D scores before and after applying the Optimal threshold (0.5726798670662026), We can find the both scores have increased considerably in after case.**"
   ]
  },
  {
   "cell_type": "markdown",
   "metadata": {},
   "source": [
    "**--------------------------------------------------------------------------------------------------------------------------------------------------------------------**"
   ]
  },
  {
   "cell_type": "markdown",
   "metadata": {},
   "source": [
    "# Decile Analysis"
   ]
  },
  {
   "cell_type": "markdown",
   "metadata": {},
   "source": [
    "## For Train "
   ]
  },
  {
   "cell_type": "code",
   "execution_count": 76,
   "metadata": {},
   "outputs": [
    {
     "name": "stderr",
     "output_type": "stream",
     "text": [
      "C:\\Users\\guru\\Anaconda3\\lib\\site-packages\\ipykernel_launcher.py:1: SettingWithCopyWarning: \n",
      "A value is trying to be set on a copy of a slice from a DataFrame.\n",
      "Try using .loc[row_indexer,col_indexer] = value instead\n",
      "\n",
      "See the caveats in the documentation: http://pandas.pydata.org/pandas-docs/stable/user_guide/indexing.html#returning-a-view-versus-a-copy\n",
      "  \"\"\"Entry point for launching an IPython kernel.\n"
     ]
    }
   ],
   "source": [
    "train['Deciles']=pd.qcut(train['pred_probs'],10, labels=False)"
   ]
  },
  {
   "cell_type": "code",
   "execution_count": 77,
   "metadata": {},
   "outputs": [
    {
     "data": {
      "text/html": [
       "<div>\n",
       "<style scoped>\n",
       "    .dataframe tbody tr th:only-of-type {\n",
       "        vertical-align: middle;\n",
       "    }\n",
       "\n",
       "    .dataframe tbody tr th {\n",
       "        vertical-align: top;\n",
       "    }\n",
       "\n",
       "    .dataframe thead th {\n",
       "        text-align: right;\n",
       "    }\n",
       "</style>\n",
       "<table border=\"1\" class=\"dataframe\">\n",
       "  <thead>\n",
       "    <tr style=\"text-align: right;\">\n",
       "      <th></th>\n",
       "      <th>satisfaction_level</th>\n",
       "      <th>last_evaluation</th>\n",
       "      <th>number_project</th>\n",
       "      <th>average_montly_hours</th>\n",
       "      <th>time_spend_company</th>\n",
       "      <th>Work_accident</th>\n",
       "      <th>promotion_last_5years</th>\n",
       "      <th>department_RandD</th>\n",
       "      <th>department_accounting</th>\n",
       "      <th>department_hr</th>\n",
       "      <th>...</th>\n",
       "      <th>department_product_mng</th>\n",
       "      <th>department_sales</th>\n",
       "      <th>department_support</th>\n",
       "      <th>department_technical</th>\n",
       "      <th>salary_low</th>\n",
       "      <th>salary_medium</th>\n",
       "      <th>left</th>\n",
       "      <th>pred_probs</th>\n",
       "      <th>pred</th>\n",
       "      <th>Deciles</th>\n",
       "    </tr>\n",
       "  </thead>\n",
       "  <tbody>\n",
       "    <tr>\n",
       "      <td>2208</td>\n",
       "      <td>0.60</td>\n",
       "      <td>0.89</td>\n",
       "      <td>3</td>\n",
       "      <td>167</td>\n",
       "      <td>4</td>\n",
       "      <td>0</td>\n",
       "      <td>0</td>\n",
       "      <td>1</td>\n",
       "      <td>0</td>\n",
       "      <td>0</td>\n",
       "      <td>...</td>\n",
       "      <td>0</td>\n",
       "      <td>0</td>\n",
       "      <td>0</td>\n",
       "      <td>0</td>\n",
       "      <td>0</td>\n",
       "      <td>1</td>\n",
       "      <td>0</td>\n",
       "      <td>0.592059</td>\n",
       "      <td>1</td>\n",
       "      <td>5</td>\n",
       "    </tr>\n",
       "    <tr>\n",
       "      <td>448</td>\n",
       "      <td>0.36</td>\n",
       "      <td>0.48</td>\n",
       "      <td>2</td>\n",
       "      <td>159</td>\n",
       "      <td>3</td>\n",
       "      <td>0</td>\n",
       "      <td>0</td>\n",
       "      <td>0</td>\n",
       "      <td>0</td>\n",
       "      <td>0</td>\n",
       "      <td>...</td>\n",
       "      <td>1</td>\n",
       "      <td>0</td>\n",
       "      <td>0</td>\n",
       "      <td>0</td>\n",
       "      <td>1</td>\n",
       "      <td>0</td>\n",
       "      <td>1</td>\n",
       "      <td>0.826543</td>\n",
       "      <td>1</td>\n",
       "      <td>8</td>\n",
       "    </tr>\n",
       "  </tbody>\n",
       "</table>\n",
       "<p>2 rows × 22 columns</p>\n",
       "</div>"
      ],
      "text/plain": [
       "      satisfaction_level  last_evaluation  number_project  \\\n",
       "2208                0.60             0.89               3   \n",
       "448                 0.36             0.48               2   \n",
       "\n",
       "      average_montly_hours  time_spend_company  Work_accident  \\\n",
       "2208                   167                   4              0   \n",
       "448                    159                   3              0   \n",
       "\n",
       "      promotion_last_5years  department_RandD  department_accounting  \\\n",
       "2208                      0                 1                      0   \n",
       "448                       0                 0                      0   \n",
       "\n",
       "      department_hr  ...  department_product_mng  department_sales  \\\n",
       "2208              0  ...                       0                 0   \n",
       "448               0  ...                       1                 0   \n",
       "\n",
       "      department_support  department_technical  salary_low  salary_medium  \\\n",
       "2208                   0                     0           0              1   \n",
       "448                    0                     0           1              0   \n",
       "\n",
       "      left  pred_probs  pred  Deciles  \n",
       "2208     0    0.592059     1        5  \n",
       "448      1    0.826543     1        8  \n",
       "\n",
       "[2 rows x 22 columns]"
      ]
     },
     "execution_count": 77,
     "metadata": {},
     "output_type": "execute_result"
    }
   ],
   "source": [
    "train.head(2)"
   ]
  },
  {
   "cell_type": "code",
   "execution_count": 79,
   "metadata": {},
   "outputs": [],
   "source": [
    "no_1s = train[['Deciles','left']].groupby(train.Deciles).sum().sort_index(ascending=False)['left']\n",
    "no_total = train[['Deciles','left']].groupby(train.Deciles).count().sort_index(ascending=False)['left']\n",
    "max_prob = train[['Deciles','pred_probs']].groupby(train.Deciles).max().sort_index(ascending=False)['pred_probs']\n",
    "min_prob = train[['Deciles','pred_probs']].groupby(train.Deciles).min().sort_index(ascending=False)['pred_probs']"
   ]
  },
  {
   "cell_type": "code",
   "execution_count": 80,
   "metadata": {},
   "outputs": [],
   "source": [
    "Decile_analysis_train = pd.concat([ min_prob, max_prob, no_1s, no_total-no_1s, no_total], axis=1)"
   ]
  },
  {
   "cell_type": "code",
   "execution_count": 81,
   "metadata": {},
   "outputs": [],
   "source": [
    "Decile_analysis_train.columns = ['Min_prob', 'Max_prob', '#1', '#0', 'Total']"
   ]
  },
  {
   "cell_type": "code",
   "execution_count": 84,
   "metadata": {},
   "outputs": [],
   "source": [
    "Decile_analysis_train = Decile_analysis_train.reset_index(drop=True)"
   ]
  },
  {
   "cell_type": "code",
   "execution_count": 89,
   "metadata": {},
   "outputs": [],
   "source": [
    "Decile_analysis_train.to_excel(\"HR Decile.xlsx\")"
   ]
  },
  {
   "cell_type": "markdown",
   "metadata": {},
   "source": [
    "## For Test"
   ]
  },
  {
   "cell_type": "code",
   "execution_count": 90,
   "metadata": {},
   "outputs": [
    {
     "name": "stderr",
     "output_type": "stream",
     "text": [
      "C:\\Users\\guru\\Anaconda3\\lib\\site-packages\\ipykernel_launcher.py:1: SettingWithCopyWarning: \n",
      "A value is trying to be set on a copy of a slice from a DataFrame.\n",
      "Try using .loc[row_indexer,col_indexer] = value instead\n",
      "\n",
      "See the caveats in the documentation: http://pandas.pydata.org/pandas-docs/stable/user_guide/indexing.html#returning-a-view-versus-a-copy\n",
      "  \"\"\"Entry point for launching an IPython kernel.\n"
     ]
    }
   ],
   "source": [
    "test['Deciles']=pd.qcut(test['pred_probs'],10, labels=False)"
   ]
  },
  {
   "cell_type": "code",
   "execution_count": 91,
   "metadata": {},
   "outputs": [],
   "source": [
    "no_1s = test[['Deciles','left']].groupby(test.Deciles).sum().sort_index(ascending=False)['left']\n",
    "no_total = test[['Deciles','left']].groupby(test.Deciles).count().sort_index(ascending=False)['left']\n",
    "max_prob = test[['Deciles','pred_probs']].groupby(test.Deciles).max().sort_index(ascending=False)['pred_probs']\n",
    "min_prob = test[['Deciles','pred_probs']].groupby(test.Deciles).min().sort_index(ascending=False)['pred_probs']"
   ]
  },
  {
   "cell_type": "code",
   "execution_count": 93,
   "metadata": {},
   "outputs": [],
   "source": [
    "Decile_analysis_test = pd.concat([ min_prob, max_prob, no_1s, no_total-no_1s, no_total], axis=1)"
   ]
  },
  {
   "cell_type": "code",
   "execution_count": 94,
   "metadata": {},
   "outputs": [],
   "source": [
    "Decile_analysis_test.columns = ['Min_prob', 'Max_prob', '#1', '#0', 'Total']"
   ]
  },
  {
   "cell_type": "code",
   "execution_count": 95,
   "metadata": {},
   "outputs": [],
   "source": [
    "Decile_analysis_test = Decile_analysis_test.reset_index(drop=True)"
   ]
  },
  {
   "cell_type": "code",
   "execution_count": 96,
   "metadata": {},
   "outputs": [],
   "source": [
    "Decile_analysis_test.to_excel(\"HR Decile test.xlsx\")"
   ]
  },
  {
   "attachments": {
    "Capture.PNG": {
     "image/png": "[encoded data removed]"
    }
   },
   "cell_type": "markdown",
   "metadata": {},
   "source": [
    "![Capture.PNG](attachment:Capture.PNG)"
   ]
  },
  {
   "cell_type": "markdown",
   "metadata": {},
   "source": [
    "**As per Decile Analysis, KS score comes out to be** <br>\n",
    "> - train : KS\t66.35%  --  and the corresponding Min Prob Score is 0.57 <br>\n",
    "> - test  : KS\t65.96%  -- and the corresponding Min Prob Score is 0.60 "
   ]
  },
  {
   "cell_type": "markdown",
   "metadata": {},
   "source": [
    "### Conclusion from Decile Analysis: <br>\n",
    "- As per the above analysis the optimum cut-off came out to be 0.57 \n",
    "- The cut-off got from the ROC curve is more or less the same.\n",
    "- Therefore, we can conclude that optimum threshold is 0.57 and our model is stable"
   ]
  },
  {
   "cell_type": "markdown",
   "metadata": {},
   "source": [
    "## Visualization"
   ]
  },
  {
   "cell_type": "markdown",
   "metadata": {},
   "source": [
    "**ROC curve for test**"
   ]
  },
  {
   "cell_type": "code",
   "execution_count": 129,
   "metadata": {},
   "outputs": [
    {
     "data": {
      "image/png": "[encoded data removed]",
      "text/plain": [
       "<Figure size 432x288 with 1 Axes>"
      ]
     },
     "metadata": {
      "needs_background": "light"
     },
     "output_type": "display_data"
    }
   ],
   "source": [
    "fpr, tpr, _ = metrics.roc_curve(test.left,  test.pred_probs)\n",
    "auc = metrics.roc_auc_score(test.left, test.pred_probs)\n",
    "plt.plot(fpr,tpr,label=\"data 1, auc=\"+str(auc))\n",
    "plt.legend(loc=4)\n",
    "plt.show()"
   ]
  },
  {
   "cell_type": "markdown",
   "metadata": {},
   "source": [
    "**ROC Curve for Train**"
   ]
  },
  {
   "cell_type": "code",
   "execution_count": 130,
   "metadata": {},
   "outputs": [
    {
     "data": {
      "image/png": "[encoded data removed]",
      "text/plain": [
       "<Figure size 432x288 with 1 Axes>"
      ]
     },
     "metadata": {
      "needs_background": "light"
     },
     "output_type": "display_data"
    }
   ],
   "source": [
    "fpr, tpr, _ = metrics.roc_curve(train.left,  train.pred_probs)\n",
    "auc = metrics.roc_auc_score(train.left, train.pred_probs)\n",
    "plt.plot(fpr,tpr,label=\"data 1, auc=\"+str(auc))\n",
    "plt.legend(loc=4)\n",
    "plt.show()"
   ]
  },
  {
   "cell_type": "code",
   "execution_count": null,
   "metadata": {},
   "outputs": [],
   "source": []
  }
 ],
 "metadata": {
  "kernelspec": {
   "display_name": "Python 3",
   "language": "python",
   "name": "python3"
  },
  "language_info": {
   "codemirror_mode": {
    "name": "ipython",
    "version": 3
   },
   "file_extension": ".py",
   "mimetype": "text/x-python",
   "name": "python",
   "nbconvert_exporter": "python",
   "pygments_lexer": "ipython3",
   "version": "3.7.4"
  }
 },
 "nbformat": 4,
 "nbformat_minor": 2
}
